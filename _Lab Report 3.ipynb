{
 "cells": [
  {
   "cell_type": "markdown",
   "metadata": {},
   "source": [
    "# Lab Report 3\n",
    "\n",
    "## Group 3\n",
    "## Caroline Kuntz 940915-1462\n",
    "## Niklas Landsberg 940421-T857"
   ]
  },
  {
   "cell_type": "code",
   "execution_count": 1,
   "metadata": {},
   "outputs": [],
   "source": [
    "import pandas as pd\n",
    "import numpy as np\n",
    "from scipy.optimize import minimize"
   ]
  },
  {
   "cell_type": "code",
   "execution_count": 2,
   "metadata": {},
   "outputs": [],
   "source": [
    "#Assumptions\n",
    "risk_free_rate=0.002"
   ]
  },
  {
   "cell_type": "code",
   "execution_count": 3,
   "metadata": {},
   "outputs": [],
   "source": [
    "#Functions used for Global Minimum Variance portfolio\n",
    "\n",
    "#1. Define portfolio return\n",
    "def portfolio_return(weights,returns):\n",
    "    return weights.T @ returns\n",
    "\n",
    "#2. Define portfolio variance\n",
    "def portfolio_risk(weights, cov_matrix):\n",
    "    return(weights.T @ cov_matrix @ weights)**0.5\n",
    "\n",
    "\n",
    "#3. Define minimimum risk\n",
    "def minimize_risk(target_return, Expected_Return, cov):\n",
    "\n",
    "    n=Expected_Return.shape[0]\n",
    "\n",
    "    initial_guess=np.repeat(1/n,n)\n",
    "    \n",
    "    bounds=((0,1),)*n\n",
    "    \n",
    "    #Constraints\n",
    "    return_is_target={\n",
    "        'type':'eq',\n",
    "        'args':(Expected_Return,),\n",
    "        'fun':lambda weights,\n",
    "        Expected_Return: target_return-portfolio_return(weights, Expected_Return)\n",
    "    }\n",
    "    \n",
    "    weights_sum_to_1={\n",
    "        'type':'eq',\n",
    "        'fun':lambda weights:np.sum(weights)-1\n",
    "    }\n",
    "    \n",
    "    results=minimize(portfolio_risk, \n",
    "                     initial_guess,\n",
    "                     args=(cov,),\n",
    "                     method=\"SLSQP\", \n",
    "                     constraints=(return_is_target,weights_sum_to_1),\n",
    "                     bounds=bounds\n",
    "                    )\n",
    "    return results.x\n",
    "\n",
    "#4. Define Maximum Sharpe Ratio\n",
    "def maximum_sharpe_ratio(risk_free_rate, Expected_Return, cov):\n",
    "    \n",
    "    n=Expected_Return.shape[0]\n",
    "    \n",
    "    initial_guess=np.repeat(1/n,n)\n",
    "    \n",
    "    bounds=((0,1),)*n\n",
    "    \n",
    "    weights_sum_to_1={\n",
    "        'type':'eq',\n",
    "        'fun':lambda weights:np.sum(weights)-1\n",
    "    }\n",
    "    \n",
    "    def neg_sharpe_ratio(weights, risk_free_rate, Expected_Return,cov):\n",
    "        \n",
    "        sharpe_ratio=(portfolio_return(weights, Expected_Return)-risk_free_rate)/portfolio_risk(weights, cov)\n",
    "        return -1*sharpe_ratio\n",
    "    \n",
    "    results=minimize(neg_sharpe_ratio, \n",
    "                     initial_guess,\n",
    "                     args=(risk_free_rate, Expected_Return, cov,), \n",
    "                     method=\"SLSQP\",\n",
    "                     constraints=(weights_sum_to_1), \n",
    "                     bounds=bounds)\n",
    "    return results.x\n",
    "\n",
    "#5. Draw the efficient frontier\n",
    "\n",
    "def optimal_weights(n_points, Expected_Return,cov):\n",
    "    \n",
    "    target_returns=np.linspace(Expected_Return.min(), Expected_Return.max(), n_points)\n",
    "    \n",
    "    weights=[minimize_risk(target_return, Expected_Return, cov) for target_return in target_returns]\n",
    "    return weights\n",
    "\n",
    "def plot_efficient_frontier(n_points,Expected_Return,cov):\n",
    "    \n",
    "    weights= optimal_weights(n_points, Expected_Return,cov)\n",
    "    \n",
    "    Returns=[portfolio_return(w,Expected_Return) for w in weights]\n",
    "    \n",
    "    Risk=[portfolio_risk(w,cov) for w in weights]\n",
    "    \n",
    "    efficient_frontier=pd.DataFrame({\"Return\":Returns, \"Risk\":Risk})\n",
    "    return efficient_frontier.plot.scatter(x=\"Risk\",y=\"Return\")\n",
    "\n",
    "#6. Global mininmum variance portfolio\n",
    "def gmv(cov):\n",
    "    n=cov.shape[0]\n",
    "    return maximum_sharpe_ratio(0, np.repeat(1,n), cov)\n",
    "\n",
    "#7. Tracking_Error\n",
    "\n",
    "def tracking_error(return_manager,return_muster_portfolio):\n",
    "    return np.sqrt(((return_manager-return_muster_portfolio)**2).sum())\n",
    "\n",
    "#8. \n",
    "def portfolio_tracking_error(weights,reference_return,asset_returns):\n",
    "    return tracking_error(reference_return,(weights*asset_returns).sum(axis=1))\n",
    "\n",
    "#9. Sharpe Style Analysis\n",
    "def style_analysis(return_of_the_manager, return_of_the_different_factors):\n",
    "    \n",
    "    n=return_of_the_different_factors.shape[1]\n",
    "    \n",
    "    init_guess=np.repeat(1/n,n)\n",
    "    \n",
    "    bounds=((0,1),)*n\n",
    "    \n",
    "    weights_sum_to_1={\n",
    "        'type':'eq',\n",
    "        'fun': lambda weights: np.sum(weights)-1\n",
    "    }\n",
    "    \n",
    "    solution=minimize(portfolio_tracking_error,\n",
    "                     init_guess,\n",
    "                     args=(return_of_the_manager, return_of_the_different_factors,),\n",
    "                     method='SLSQP',\n",
    "                     constraints=(weights_sum_to_1,),\n",
    "                     bounds=bounds)\n",
    "    weights=pd.Series(solution.x,index=return_of_the_different_factors.columns)\n",
    "    return weights"
   ]
  },
  {
   "cell_type": "code",
   "execution_count": 4,
   "metadata": {},
   "outputs": [
    {
     "data": {
      "text/html": [
       "<div>\n",
       "<style scoped>\n",
       "    .dataframe tbody tr th:only-of-type {\n",
       "        vertical-align: middle;\n",
       "    }\n",
       "\n",
       "    .dataframe tbody tr th {\n",
       "        vertical-align: top;\n",
       "    }\n",
       "\n",
       "    .dataframe thead th {\n",
       "        text-align: right;\n",
       "    }\n",
       "</style>\n",
       "<table border=\"1\" class=\"dataframe\">\n",
       "  <thead>\n",
       "    <tr style=\"text-align: right;\">\n",
       "      <th></th>\n",
       "      <th>Food</th>\n",
       "      <th>Beer</th>\n",
       "      <th>Smoke</th>\n",
       "      <th>Games</th>\n",
       "      <th>Books</th>\n",
       "      <th>Hshld</th>\n",
       "      <th>Clths</th>\n",
       "      <th>Hlth</th>\n",
       "      <th>Chems</th>\n",
       "      <th>Txtls</th>\n",
       "      <th>...</th>\n",
       "      <th>Telcm</th>\n",
       "      <th>Servs</th>\n",
       "      <th>BusEq</th>\n",
       "      <th>Paper</th>\n",
       "      <th>Trans</th>\n",
       "      <th>Whlsl</th>\n",
       "      <th>Rtail</th>\n",
       "      <th>Meals</th>\n",
       "      <th>Fin</th>\n",
       "      <th>Other</th>\n",
       "    </tr>\n",
       "  </thead>\n",
       "  <tbody>\n",
       "    <tr>\n",
       "      <th>2019-08</th>\n",
       "      <td>0.0108</td>\n",
       "      <td>0.0619</td>\n",
       "      <td>-0.1104</td>\n",
       "      <td>-0.0588</td>\n",
       "      <td>-0.0459</td>\n",
       "      <td>0.0158</td>\n",
       "      <td>-0.0498</td>\n",
       "      <td>-0.0045</td>\n",
       "      <td>-0.0566</td>\n",
       "      <td>-0.0547</td>\n",
       "      <td>...</td>\n",
       "      <td>0.0043</td>\n",
       "      <td>-0.0213</td>\n",
       "      <td>-0.0359</td>\n",
       "      <td>-0.0296</td>\n",
       "      <td>-0.0687</td>\n",
       "      <td>-0.0234</td>\n",
       "      <td>-0.0012</td>\n",
       "      <td>0.0134</td>\n",
       "      <td>-0.0469</td>\n",
       "      <td>-0.0213</td>\n",
       "    </tr>\n",
       "    <tr>\n",
       "      <th>2019-09</th>\n",
       "      <td>0.0050</td>\n",
       "      <td>0.0162</td>\n",
       "      <td>0.0195</td>\n",
       "      <td>-0.0467</td>\n",
       "      <td>0.0139</td>\n",
       "      <td>0.0175</td>\n",
       "      <td>0.0914</td>\n",
       "      <td>-0.0054</td>\n",
       "      <td>0.0560</td>\n",
       "      <td>0.0741</td>\n",
       "      <td>...</td>\n",
       "      <td>0.0130</td>\n",
       "      <td>-0.0106</td>\n",
       "      <td>0.0436</td>\n",
       "      <td>0.0174</td>\n",
       "      <td>0.0054</td>\n",
       "      <td>0.0536</td>\n",
       "      <td>0.0096</td>\n",
       "      <td>-0.0249</td>\n",
       "      <td>0.0258</td>\n",
       "      <td>0.0219</td>\n",
       "    </tr>\n",
       "    <tr>\n",
       "      <th>2019-10</th>\n",
       "      <td>-0.0166</td>\n",
       "      <td>-0.0104</td>\n",
       "      <td>0.0810</td>\n",
       "      <td>0.0584</td>\n",
       "      <td>0.0135</td>\n",
       "      <td>-0.0072</td>\n",
       "      <td>-0.0218</td>\n",
       "      <td>0.0447</td>\n",
       "      <td>-0.0095</td>\n",
       "      <td>0.1062</td>\n",
       "      <td>...</td>\n",
       "      <td>0.0223</td>\n",
       "      <td>0.0188</td>\n",
       "      <td>0.0537</td>\n",
       "      <td>0.0000</td>\n",
       "      <td>0.0137</td>\n",
       "      <td>0.0245</td>\n",
       "      <td>0.0165</td>\n",
       "      <td>-0.0427</td>\n",
       "      <td>0.0329</td>\n",
       "      <td>0.0189</td>\n",
       "    </tr>\n",
       "    <tr>\n",
       "      <th>2019-11</th>\n",
       "      <td>0.0199</td>\n",
       "      <td>-0.0059</td>\n",
       "      <td>0.0552</td>\n",
       "      <td>0.0615</td>\n",
       "      <td>-0.0099</td>\n",
       "      <td>-0.0128</td>\n",
       "      <td>0.0467</td>\n",
       "      <td>0.0530</td>\n",
       "      <td>0.0382</td>\n",
       "      <td>-0.0224</td>\n",
       "      <td>...</td>\n",
       "      <td>0.0175</td>\n",
       "      <td>0.0503</td>\n",
       "      <td>0.0478</td>\n",
       "      <td>0.0312</td>\n",
       "      <td>0.0275</td>\n",
       "      <td>0.0441</td>\n",
       "      <td>0.0206</td>\n",
       "      <td>0.0282</td>\n",
       "      <td>0.0568</td>\n",
       "      <td>0.0424</td>\n",
       "    </tr>\n",
       "    <tr>\n",
       "      <th>2019-12</th>\n",
       "      <td>0.0358</td>\n",
       "      <td>0.0138</td>\n",
       "      <td>0.0322</td>\n",
       "      <td>0.0397</td>\n",
       "      <td>0.0323</td>\n",
       "      <td>0.0263</td>\n",
       "      <td>0.0768</td>\n",
       "      <td>0.0333</td>\n",
       "      <td>0.0135</td>\n",
       "      <td>-0.0342</td>\n",
       "      <td>...</td>\n",
       "      <td>0.0124</td>\n",
       "      <td>0.0179</td>\n",
       "      <td>0.0624</td>\n",
       "      <td>0.0217</td>\n",
       "      <td>-0.0024</td>\n",
       "      <td>0.0239</td>\n",
       "      <td>0.0121</td>\n",
       "      <td>0.0259</td>\n",
       "      <td>0.0259</td>\n",
       "      <td>0.0205</td>\n",
       "    </tr>\n",
       "  </tbody>\n",
       "</table>\n",
       "<p>5 rows × 30 columns</p>\n",
       "</div>"
      ],
      "text/plain": [
       "           Food    Beer   Smoke   Games   Books   Hshld   Clths    Hlth  \\\n",
       "2019-08  0.0108  0.0619 -0.1104 -0.0588 -0.0459  0.0158 -0.0498 -0.0045   \n",
       "2019-09  0.0050  0.0162  0.0195 -0.0467  0.0139  0.0175  0.0914 -0.0054   \n",
       "2019-10 -0.0166 -0.0104  0.0810  0.0584  0.0135 -0.0072 -0.0218  0.0447   \n",
       "2019-11  0.0199 -0.0059  0.0552  0.0615 -0.0099 -0.0128  0.0467  0.0530   \n",
       "2019-12  0.0358  0.0138  0.0322  0.0397  0.0323  0.0263  0.0768  0.0333   \n",
       "\n",
       "          Chems   Txtls  ...   Telcm   Servs   BusEq   Paper   Trans   Whlsl  \\\n",
       "2019-08 -0.0566 -0.0547  ...  0.0043 -0.0213 -0.0359 -0.0296 -0.0687 -0.0234   \n",
       "2019-09  0.0560  0.0741  ...  0.0130 -0.0106  0.0436  0.0174  0.0054  0.0536   \n",
       "2019-10 -0.0095  0.1062  ...  0.0223  0.0188  0.0537  0.0000  0.0137  0.0245   \n",
       "2019-11  0.0382 -0.0224  ...  0.0175  0.0503  0.0478  0.0312  0.0275  0.0441   \n",
       "2019-12  0.0135 -0.0342  ...  0.0124  0.0179  0.0624  0.0217 -0.0024  0.0239   \n",
       "\n",
       "          Rtail   Meals     Fin   Other  \n",
       "2019-08 -0.0012  0.0134 -0.0469 -0.0213  \n",
       "2019-09  0.0096 -0.0249  0.0258  0.0219  \n",
       "2019-10  0.0165 -0.0427  0.0329  0.0189  \n",
       "2019-11  0.0206  0.0282  0.0568  0.0424  \n",
       "2019-12  0.0121  0.0259  0.0259  0.0205  \n",
       "\n",
       "[5 rows x 30 columns]"
      ]
     },
     "execution_count": 4,
     "metadata": {},
     "output_type": "execute_result"
    }
   ],
   "source": [
    "#### Clean the data\n",
    "data_return= pd.read_csv('industry_portfolios_30.csv',index_col=0)\n",
    "\n",
    "data_return= data_return.replace(\" \",\"\")\n",
    "\n",
    "data_return.dropna()\n",
    "\n",
    "data_return.index=pd.to_datetime(data_return.index, format=\"%Y%m\")\n",
    "\n",
    "data_return.index=data_return.index.to_period('M')\n",
    "\n",
    "data_return.columns=data_return.columns.str.strip()\n",
    "\n",
    "data_return=data_return/100\n",
    "\n",
    "data_return.tail()"
   ]
  },
  {
   "cell_type": "markdown",
   "metadata": {},
   "source": [
    "## Choose three portfolios and find the tangency portfolios for those assets"
   ]
  },
  {
   "cell_type": "code",
   "execution_count": 5,
   "metadata": {},
   "outputs": [],
   "source": [
    "Assets_1=['Food','Games','Hlth']\n",
    "portfolio_1=data_return[Assets_1]\n",
    "expected_return_1 = portfolio_1.mean()\n",
    "cov_1= portfolio_1.cov()"
   ]
  },
  {
   "cell_type": "code",
   "execution_count": 6,
   "metadata": {},
   "outputs": [
    {
     "data": {
      "text/plain": [
       "Food     0.009677\n",
       "Games    0.011446\n",
       "Hlth     0.010848\n",
       "dtype: float64"
      ]
     },
     "execution_count": 6,
     "metadata": {},
     "output_type": "execute_result"
    }
   ],
   "source": [
    "expected_return_1"
   ]
  },
  {
   "cell_type": "code",
   "execution_count": 7,
   "metadata": {},
   "outputs": [
    {
     "data": {
      "text/html": [
       "<div>\n",
       "<style scoped>\n",
       "    .dataframe tbody tr th:only-of-type {\n",
       "        vertical-align: middle;\n",
       "    }\n",
       "\n",
       "    .dataframe tbody tr th {\n",
       "        vertical-align: top;\n",
       "    }\n",
       "\n",
       "    .dataframe thead th {\n",
       "        text-align: right;\n",
       "    }\n",
       "</style>\n",
       "<table border=\"1\" class=\"dataframe\">\n",
       "  <thead>\n",
       "    <tr style=\"text-align: right;\">\n",
       "      <th></th>\n",
       "      <th>Food</th>\n",
       "      <th>Games</th>\n",
       "      <th>Hlth</th>\n",
       "    </tr>\n",
       "  </thead>\n",
       "  <tbody>\n",
       "    <tr>\n",
       "      <th>Food</th>\n",
       "      <td>0.002227</td>\n",
       "      <td>0.002953</td>\n",
       "      <td>0.002023</td>\n",
       "    </tr>\n",
       "    <tr>\n",
       "      <th>Games</th>\n",
       "      <td>0.002953</td>\n",
       "      <td>0.007921</td>\n",
       "      <td>0.003334</td>\n",
       "    </tr>\n",
       "    <tr>\n",
       "      <th>Hlth</th>\n",
       "      <td>0.002023</td>\n",
       "      <td>0.003334</td>\n",
       "      <td>0.003074</td>\n",
       "    </tr>\n",
       "  </tbody>\n",
       "</table>\n",
       "</div>"
      ],
      "text/plain": [
       "           Food     Games      Hlth\n",
       "Food   0.002227  0.002953  0.002023\n",
       "Games  0.002953  0.007921  0.003334\n",
       "Hlth   0.002023  0.003334  0.003074"
      ]
     },
     "execution_count": 7,
     "metadata": {},
     "output_type": "execute_result"
    }
   ],
   "source": [
    "cov_1"
   ]
  },
  {
   "cell_type": "code",
   "execution_count": 8,
   "metadata": {},
   "outputs": [],
   "source": [
    "Assets_2=['Clths','Chems','Fin',]\n",
    "portfolio_2=data_return[Assets_2]\n",
    "expected_return_2 = portfolio_2.mean()\n",
    "cov_2= portfolio_2.cov()"
   ]
  },
  {
   "cell_type": "code",
   "execution_count": 9,
   "metadata": {},
   "outputs": [
    {
     "data": {
      "text/plain": [
       "Clths    0.009535\n",
       "Chems    0.010465\n",
       "Fin      0.010284\n",
       "dtype: float64"
      ]
     },
     "execution_count": 9,
     "metadata": {},
     "output_type": "execute_result"
    }
   ],
   "source": [
    "expected_return_2"
   ]
  },
  {
   "cell_type": "code",
   "execution_count": 10,
   "metadata": {},
   "outputs": [
    {
     "data": {
      "text/html": [
       "<div>\n",
       "<style scoped>\n",
       "    .dataframe tbody tr th:only-of-type {\n",
       "        vertical-align: middle;\n",
       "    }\n",
       "\n",
       "    .dataframe tbody tr th {\n",
       "        vertical-align: top;\n",
       "    }\n",
       "\n",
       "    .dataframe thead th {\n",
       "        text-align: right;\n",
       "    }\n",
       "</style>\n",
       "<table border=\"1\" class=\"dataframe\">\n",
       "  <thead>\n",
       "    <tr style=\"text-align: right;\">\n",
       "      <th></th>\n",
       "      <th>Clths</th>\n",
       "      <th>Chems</th>\n",
       "      <th>Fin</th>\n",
       "    </tr>\n",
       "  </thead>\n",
       "  <tbody>\n",
       "    <tr>\n",
       "      <th>Clths</th>\n",
       "      <td>0.003710</td>\n",
       "      <td>0.002515</td>\n",
       "      <td>0.002727</td>\n",
       "    </tr>\n",
       "    <tr>\n",
       "      <th>Chems</th>\n",
       "      <td>0.002515</td>\n",
       "      <td>0.003948</td>\n",
       "      <td>0.003386</td>\n",
       "    </tr>\n",
       "    <tr>\n",
       "      <th>Fin</th>\n",
       "      <td>0.002727</td>\n",
       "      <td>0.003386</td>\n",
       "      <td>0.004570</td>\n",
       "    </tr>\n",
       "  </tbody>\n",
       "</table>\n",
       "</div>"
      ],
      "text/plain": [
       "          Clths     Chems       Fin\n",
       "Clths  0.003710  0.002515  0.002727\n",
       "Chems  0.002515  0.003948  0.003386\n",
       "Fin    0.002727  0.003386  0.004570"
      ]
     },
     "execution_count": 10,
     "metadata": {},
     "output_type": "execute_result"
    }
   ],
   "source": [
    "cov_2"
   ]
  },
  {
   "cell_type": "code",
   "execution_count": 11,
   "metadata": {},
   "outputs": [],
   "source": [
    "Assets_3=['Books','Telcm','Rtail']\n",
    "portfolio_3=data_return[Assets_3]\n",
    "expected_return_3 = portfolio_3.mean()\n",
    "cov_3= portfolio_3.cov()"
   ]
  },
  {
   "cell_type": "code",
   "execution_count": 12,
   "metadata": {},
   "outputs": [
    {
     "data": {
      "text/plain": [
       "Books    0.008943\n",
       "Telcm    0.008607\n",
       "Rtail    0.010428\n",
       "dtype: float64"
      ]
     },
     "execution_count": 12,
     "metadata": {},
     "output_type": "execute_result"
    }
   ],
   "source": [
    "expected_return_3"
   ]
  },
  {
   "cell_type": "code",
   "execution_count": 13,
   "metadata": {},
   "outputs": [
    {
     "data": {
      "text/html": [
       "<div>\n",
       "<style scoped>\n",
       "    .dataframe tbody tr th:only-of-type {\n",
       "        vertical-align: middle;\n",
       "    }\n",
       "\n",
       "    .dataframe tbody tr th {\n",
       "        vertical-align: top;\n",
       "    }\n",
       "\n",
       "    .dataframe thead th {\n",
       "        text-align: right;\n",
       "    }\n",
       "</style>\n",
       "<table border=\"1\" class=\"dataframe\">\n",
       "  <thead>\n",
       "    <tr style=\"text-align: right;\">\n",
       "      <th></th>\n",
       "      <th>Books</th>\n",
       "      <th>Telcm</th>\n",
       "      <th>Rtail</th>\n",
       "    </tr>\n",
       "  </thead>\n",
       "  <tbody>\n",
       "    <tr>\n",
       "      <th>Books</th>\n",
       "      <td>0.005103</td>\n",
       "      <td>0.002042</td>\n",
       "      <td>0.003240</td>\n",
       "    </tr>\n",
       "    <tr>\n",
       "      <th>Telcm</th>\n",
       "      <td>0.002042</td>\n",
       "      <td>0.002094</td>\n",
       "      <td>0.001817</td>\n",
       "    </tr>\n",
       "    <tr>\n",
       "      <th>Rtail</th>\n",
       "      <td>0.003240</td>\n",
       "      <td>0.001817</td>\n",
       "      <td>0.003541</td>\n",
       "    </tr>\n",
       "  </tbody>\n",
       "</table>\n",
       "</div>"
      ],
      "text/plain": [
       "          Books     Telcm     Rtail\n",
       "Books  0.005103  0.002042  0.003240\n",
       "Telcm  0.002042  0.002094  0.001817\n",
       "Rtail  0.003240  0.001817  0.003541"
      ]
     },
     "execution_count": 13,
     "metadata": {},
     "output_type": "execute_result"
    }
   ],
   "source": [
    "cov_3"
   ]
  },
  {
   "cell_type": "code",
   "execution_count": 14,
   "metadata": {},
   "outputs": [],
   "source": [
    "weight_max_1=maximum_sharpe_ratio(risk_free_rate,expected_return_1,cov_1)\n",
    "Return_Sharpe_1=portfolio_return(weight_max_1,expected_return_1.values)\n",
    "Risk_Sharpe_1=portfolio_risk(weight_max_1,cov_1)"
   ]
  },
  {
   "cell_type": "code",
   "execution_count": 15,
   "metadata": {},
   "outputs": [
    {
     "data": {
      "text/plain": [
       "array([0.57958469, 0.        , 0.42041531])"
      ]
     },
     "execution_count": 15,
     "metadata": {},
     "output_type": "execute_result"
    }
   ],
   "source": [
    "weight_max_1"
   ]
  },
  {
   "cell_type": "code",
   "execution_count": 16,
   "metadata": {},
   "outputs": [
    {
     "data": {
      "text/plain": [
       "0.010169161842111842"
      ]
     },
     "execution_count": 16,
     "metadata": {},
     "output_type": "execute_result"
    }
   ],
   "source": [
    "Return_Sharpe_1"
   ]
  },
  {
   "cell_type": "code",
   "execution_count": 17,
   "metadata": {},
   "outputs": [
    {
     "data": {
      "text/plain": [
       "0.0477212550513593"
      ]
     },
     "execution_count": 17,
     "metadata": {},
     "output_type": "execute_result"
    }
   ],
   "source": [
    "Risk_Sharpe_1"
   ]
  },
  {
   "cell_type": "code",
   "execution_count": 18,
   "metadata": {},
   "outputs": [],
   "source": [
    "weight_max_2=maximum_sharpe_ratio(risk_free_rate,expected_return_2,cov_2)\n",
    "Return_Sharpe_2=portfolio_return(weight_max_2,expected_return_2.values)\n",
    "Risk_Sharpe_2=portfolio_risk(weight_max_2,cov_2)"
   ]
  },
  {
   "cell_type": "code",
   "execution_count": 19,
   "metadata": {},
   "outputs": [
    {
     "data": {
      "text/plain": [
       "array([0.36971129, 0.51136253, 0.11892619])"
      ]
     },
     "execution_count": 19,
     "metadata": {},
     "output_type": "execute_result"
    }
   ],
   "source": [
    "weight_max_2"
   ]
  },
  {
   "cell_type": "code",
   "execution_count": 20,
   "metadata": {},
   "outputs": [
    {
     "data": {
      "text/plain": [
       "0.01009957348061519"
      ]
     },
     "execution_count": 20,
     "metadata": {},
     "output_type": "execute_result"
    }
   ],
   "source": [
    "Return_Sharpe_2"
   ]
  },
  {
   "cell_type": "code",
   "execution_count": 21,
   "metadata": {},
   "outputs": [
    {
     "data": {
      "text/plain": [
       "0.0566294690470964"
      ]
     },
     "execution_count": 21,
     "metadata": {},
     "output_type": "execute_result"
    }
   ],
   "source": [
    "Risk_Sharpe_2"
   ]
  },
  {
   "cell_type": "code",
   "execution_count": 22,
   "metadata": {},
   "outputs": [],
   "source": [
    "weight_max_3=maximum_sharpe_ratio(risk_free_rate,expected_return_3,cov_3)\n",
    "Return_Sharpe_3=portfolio_return(weight_max_3,expected_return_3.values)\n",
    "Risk_Sharpe_3=portfolio_risk(weight_max_3,cov_3)"
   ]
  },
  {
   "cell_type": "code",
   "execution_count": 23,
   "metadata": {},
   "outputs": [
    {
     "data": {
      "text/plain": [
       "array([8.21265314e-17, 5.89718247e-01, 4.10281753e-01])"
      ]
     },
     "execution_count": 23,
     "metadata": {},
     "output_type": "execute_result"
    }
   ],
   "source": [
    "weight_max_3"
   ]
  },
  {
   "cell_type": "code",
   "execution_count": 24,
   "metadata": {},
   "outputs": [
    {
     "data": {
      "text/plain": [
       "0.009354294495377037"
      ]
     },
     "execution_count": 24,
     "metadata": {},
     "output_type": "execute_result"
    }
   ],
   "source": [
    "Return_Sharpe_3"
   ]
  },
  {
   "cell_type": "code",
   "execution_count": 25,
   "metadata": {},
   "outputs": [
    {
     "data": {
      "text/plain": [
       "0.046942143124458796"
      ]
     },
     "execution_count": 25,
     "metadata": {},
     "output_type": "execute_result"
    }
   ],
   "source": [
    "Risk_Sharpe_3"
   ]
  },
  {
   "cell_type": "code",
   "execution_count": 26,
   "metadata": {},
   "outputs": [
    {
     "data": {
      "text/plain": [
       "[<matplotlib.lines.Line2D at 0x101e5f6e10>]"
      ]
     },
     "execution_count": 26,
     "metadata": {},
     "output_type": "execute_result"
    },
    {
     "data": {
      "image/png": "[encoded data removed]",
      "text/plain": [
       "<Figure size 432x288 with 1 Axes>"
      ]
     },
     "metadata": {
      "needs_background": "light"
     },
     "output_type": "display_data"
    }
   ],
   "source": [
    "ax=plot_efficient_frontier(100,expected_return_1.values,cov_1)\n",
    "ax.set_xlim(left=0)\n",
    "\n",
    "#Tangency Portfolio 1\n",
    "cml_x=[0,Risk_Sharpe_1]\n",
    "cml_y=[risk_free_rate, Return_Sharpe_1]\n",
    "\n",
    "ax.plot(cml_x,cml_y,color=\"red\",marker=\"o\",linestyle=\"dashed\")\n",
    "\n",
    "#GMV 1\n",
    "weight_gmv_1=gmv(cov_1)\n",
    "Return_gmv_1=portfolio_return(weight_gmv_1,expected_return_1.values)\n",
    "Risk_gmv_1=portfolio_risk(weight_gmv_1,cov_1)\n",
    "                                \n",
    "ax.plot([Risk_gmv_1],[Return_gmv_1],color=\"yellow\", marker=\"o\",linestyle=\"dashed\")\n",
    "\n"
   ]
  },
  {
   "cell_type": "code",
   "execution_count": 27,
   "metadata": {},
   "outputs": [
    {
     "data": {
      "text/plain": [
       "[<matplotlib.lines.Line2D at 0x101e521b50>]"
      ]
     },
     "execution_count": 27,
     "metadata": {},
     "output_type": "execute_result"
    },
    {
     "data": {
      "image/png": "[encoded data removed]",
      "text/plain": [
       "<Figure size 432x288 with 1 Axes>"
      ]
     },
     "metadata": {
      "needs_background": "light"
     },
     "output_type": "display_data"
    }
   ],
   "source": [
    "ax=plot_efficient_frontier(100,expected_return_2.values,cov_2)\n",
    "ax.set_xlim(left=0)\n",
    "\n",
    "#Tangency Portfolio 2\n",
    "cml_x=[0,Risk_Sharpe_2]\n",
    "cml_y=[risk_free_rate, Return_Sharpe_2]\n",
    "\n",
    "ax.plot(cml_x,cml_y,color=\"red\",marker=\"o\",linestyle=\"dashed\")\n",
    "\n",
    "#GMV 2\n",
    "weight_gmv_2=gmv(cov_2)\n",
    "Return_gmv_2=portfolio_return(weight_gmv_2,expected_return_2.values)\n",
    "Risk_gmv_2=portfolio_risk(weight_gmv_2,cov_2)\n",
    "                                \n",
    "ax.plot([Risk_gmv_2],[Return_gmv_2],color=\"yellow\", marker=\"o\",linestyle=\"dashed\")\n"
   ]
  },
  {
   "cell_type": "code",
   "execution_count": 28,
   "metadata": {},
   "outputs": [
    {
     "data": {
      "text/plain": [
       "[<matplotlib.lines.Line2D at 0x101c661ed0>]"
      ]
     },
     "execution_count": 28,
     "metadata": {},
     "output_type": "execute_result"
    },
    {
     "data": {
      "image/png": "[encoded data removed]",
      "text/plain": [
       "<Figure size 432x288 with 1 Axes>"
      ]
     },
     "metadata": {
      "needs_background": "light"
     },
     "output_type": "display_data"
    }
   ],
   "source": [
    "ax=plot_efficient_frontier(100,expected_return_3.values,cov_3)\n",
    "ax.set_xlim(left=0)\n",
    "\n",
    "#Tangency Portfolio 3\n",
    "cml_x=[0,Risk_Sharpe_3]\n",
    "cml_y=[risk_free_rate, Return_Sharpe_3]\n",
    "\n",
    "ax.plot(cml_x,cml_y,color=\"red\",marker=\"o\", linestyle=\"dashed\")\n",
    "\n",
    "#GMV 3\n",
    "weight_gmv_3=gmv(cov_3)\n",
    "Return_gmv_3=portfolio_return(weight_gmv_3,expected_return_3.values)\n",
    "Risk_gmv_3=portfolio_risk(weight_gmv_3,cov_3)\n",
    "                                \n",
    "ax.plot([Risk_gmv_3],[Return_gmv_3],color=\"yellow\", marker=\"o\",linestyle=\"dashed\")"
   ]
  },
  {
   "cell_type": "markdown",
   "metadata": {},
   "source": [
    "We can see that the tangency portfolio is above the gmv which is to expect and is a proof that things are correct"
   ]
  },
  {
   "cell_type": "markdown",
   "metadata": {},
   "source": [
    "## Change the expected return of the three assets slightly, compute the efficient portfolios again and see if the optimal weights change"
   ]
  },
  {
   "cell_type": "code",
   "execution_count": 29,
   "metadata": {},
   "outputs": [],
   "source": [
    "noise=np.random.normal(scale=0.15/(12*0.5))"
   ]
  },
  {
   "cell_type": "code",
   "execution_count": 30,
   "metadata": {},
   "outputs": [],
   "source": [
    "expected_return_1_noise = portfolio_1.mean()+noise"
   ]
  },
  {
   "cell_type": "code",
   "execution_count": 31,
   "metadata": {},
   "outputs": [],
   "source": [
    "expected_return_2_noise = portfolio_2.mean()+noise"
   ]
  },
  {
   "cell_type": "code",
   "execution_count": 32,
   "metadata": {},
   "outputs": [],
   "source": [
    "expected_return_3_noise = portfolio_3.mean()+noise"
   ]
  },
  {
   "cell_type": "code",
   "execution_count": 33,
   "metadata": {},
   "outputs": [
    {
     "data": {
      "text/plain": [
       "array([0.57958469, 0.        , 0.42041531])"
      ]
     },
     "execution_count": 33,
     "metadata": {},
     "output_type": "execute_result"
    }
   ],
   "source": [
    "weight_max_1=maximum_sharpe_ratio(risk_free_rate,expected_return_1,cov_1)\n",
    "weight_max_1"
   ]
  },
  {
   "cell_type": "code",
   "execution_count": 34,
   "metadata": {},
   "outputs": [
    {
     "data": {
      "text/plain": [
       "array([7.21111007e-17, 1.00000000e+00, 0.00000000e+00])"
      ]
     },
     "execution_count": 34,
     "metadata": {},
     "output_type": "execute_result"
    }
   ],
   "source": [
    "weight_max_1_noise=maximum_sharpe_ratio(risk_free_rate,expected_return_1_noise,cov_1)\n",
    "weight_max_1_noise"
   ]
  },
  {
   "cell_type": "code",
   "execution_count": 35,
   "metadata": {},
   "outputs": [
    {
     "data": {
      "text/plain": [
       "array([0.57958469, 1.        , 0.42041531])"
      ]
     },
     "execution_count": 35,
     "metadata": {},
     "output_type": "execute_result"
    }
   ],
   "source": [
    "weight_1_change = ((weight_max_1-weight_max_1_noise)**2)**0.5\n",
    "weight_1_change"
   ]
  },
  {
   "cell_type": "code",
   "execution_count": 36,
   "metadata": {},
   "outputs": [],
   "source": [
    "weight_1_change=pd.DataFrame({\"weights\": weight_1_change})"
   ]
  },
  {
   "cell_type": "code",
   "execution_count": 37,
   "metadata": {},
   "outputs": [
    {
     "data": {
      "text/plain": [
       "<matplotlib.axes._subplots.AxesSubplot at 0x101c5eca50>"
      ]
     },
     "execution_count": 37,
     "metadata": {},
     "output_type": "execute_result"
    },
    {
     "data": {
      "image/png": "[encoded data removed]",
      "text/plain": [
       "<Figure size 432x288 with 1 Axes>"
      ]
     },
     "metadata": {
      "needs_background": "light"
     },
     "output_type": "display_data"
    }
   ],
   "source": [
    "weight_1_change.plot.bar(title=\"Portfolio 1 weight change due to estimation noise\")"
   ]
  },
  {
   "cell_type": "code",
   "execution_count": 38,
   "metadata": {},
   "outputs": [
    {
     "data": {
      "text/plain": [
       "array([0.36971129, 0.51136253, 0.11892619])"
      ]
     },
     "execution_count": 38,
     "metadata": {},
     "output_type": "execute_result"
    }
   ],
   "source": [
    "weight_max_2=maximum_sharpe_ratio(risk_free_rate,expected_return_2,cov_2)\n",
    "weight_max_2"
   ]
  },
  {
   "cell_type": "code",
   "execution_count": 39,
   "metadata": {},
   "outputs": [
    {
     "data": {
      "text/plain": [
       "array([2.40370336e-16, 0.00000000e+00, 1.00000000e+00])"
      ]
     },
     "execution_count": 39,
     "metadata": {},
     "output_type": "execute_result"
    }
   ],
   "source": [
    "weight_max_2_noise=maximum_sharpe_ratio(risk_free_rate,expected_return_2_noise,cov_2)\n",
    "weight_max_2_noise"
   ]
  },
  {
   "cell_type": "code",
   "execution_count": 40,
   "metadata": {},
   "outputs": [
    {
     "data": {
      "text/plain": [
       "array([0.36971129, 0.51136253, 0.88107381])"
      ]
     },
     "execution_count": 40,
     "metadata": {},
     "output_type": "execute_result"
    }
   ],
   "source": [
    "weight_2_change = ((weight_max_2-weight_max_2_noise)**2)**0.5\n",
    "weight_2_change"
   ]
  },
  {
   "cell_type": "code",
   "execution_count": 41,
   "metadata": {},
   "outputs": [],
   "source": [
    "weight_2_change=pd.DataFrame({\"weights\": weight_2_change})"
   ]
  },
  {
   "cell_type": "code",
   "execution_count": 42,
   "metadata": {},
   "outputs": [
    {
     "data": {
      "text/plain": [
       "<matplotlib.axes._subplots.AxesSubplot at 0x101c7239d0>"
      ]
     },
     "execution_count": 42,
     "metadata": {},
     "output_type": "execute_result"
    },
    {
     "data": {
      "image/png": "[encoded data removed]",
      "text/plain": [
       "<Figure size 432x288 with 1 Axes>"
      ]
     },
     "metadata": {
      "needs_background": "light"
     },
     "output_type": "display_data"
    }
   ],
   "source": [
    "weight_2_change.plot.bar(title=\"Portfolio 2 weight change due to estimation noise\")"
   ]
  },
  {
   "cell_type": "code",
   "execution_count": 43,
   "metadata": {},
   "outputs": [
    {
     "data": {
      "text/plain": [
       "array([8.21265314e-17, 5.89718247e-01, 4.10281753e-01])"
      ]
     },
     "execution_count": 43,
     "metadata": {},
     "output_type": "execute_result"
    }
   ],
   "source": [
    "weight_max_3=maximum_sharpe_ratio(risk_free_rate,expected_return_3,cov_3)\n",
    "weight_max_3"
   ]
  },
  {
   "cell_type": "code",
   "execution_count": 44,
   "metadata": {},
   "outputs": [
    {
     "data": {
      "text/plain": [
       "array([1.00000000e+00, 0.00000000e+00, 1.52655666e-16])"
      ]
     },
     "execution_count": 44,
     "metadata": {},
     "output_type": "execute_result"
    }
   ],
   "source": [
    "weight_max_3_noise=maximum_sharpe_ratio(risk_free_rate,expected_return_3_noise,cov_3)\n",
    "weight_max_3_noise"
   ]
  },
  {
   "cell_type": "code",
   "execution_count": 45,
   "metadata": {},
   "outputs": [
    {
     "data": {
      "text/plain": [
       "array([1.        , 0.58971825, 0.41028175])"
      ]
     },
     "execution_count": 45,
     "metadata": {},
     "output_type": "execute_result"
    }
   ],
   "source": [
    "weight_3_change = ((weight_max_3-weight_max_3_noise)**2)**0.5\n",
    "weight_3_change"
   ]
  },
  {
   "cell_type": "code",
   "execution_count": 46,
   "metadata": {},
   "outputs": [],
   "source": [
    "weight_3_change=pd.DataFrame({\"weights\": weight_3_change})"
   ]
  },
  {
   "cell_type": "code",
   "execution_count": 47,
   "metadata": {},
   "outputs": [
    {
     "data": {
      "text/plain": [
       "<matplotlib.axes._subplots.AxesSubplot at 0x101c833610>"
      ]
     },
     "execution_count": 47,
     "metadata": {},
     "output_type": "execute_result"
    },
    {
     "data": {
      "image/png": "[encoded data removed]",
      "text/plain": [
       "<Figure size 432x288 with 1 Axes>"
      ]
     },
     "metadata": {
      "needs_background": "light"
     },
     "output_type": "display_data"
    }
   ],
   "source": [
    "weight_3_change.plot.bar(title=\"Portfolio 3 weight change due to estimation noise\")"
   ]
  },
  {
   "cell_type": "markdown",
   "metadata": {},
   "source": [
    "We can clearly see that the weights changed dramatically with a change in the expected return. The changes can lead to investment or disinvestment which is quite heavy as an outcome. By looking at the absolute change of weights - we are interested if the weights changed in either directions and we observe massive swings"
   ]
  },
  {
   "cell_type": "markdown",
   "metadata": {},
   "source": [
    "## 4. Choose a mutual find in yahoo finance and download its historical returns"
   ]
  },
  {
   "cell_type": "code",
   "execution_count": 48,
   "metadata": {
    "scrolled": true
   },
   "outputs": [
    {
     "data": {
      "text/plain": [
       "Date\n",
       "2010-12    0.061359\n",
       "2011-01    0.060991\n",
       "2011-02    0.062769\n",
       "2011-03    0.063689\n",
       "2011-04    0.067857\n",
       "             ...   \n",
       "2018-08    0.157732\n",
       "2018-09    0.157254\n",
       "2018-10    0.141023\n",
       "2018-11    0.140736\n",
       "2018-12    0.134039\n",
       "Freq: M, Name: Adj Close, Length: 97, dtype: float64"
      ]
     },
     "execution_count": 48,
     "metadata": {},
     "output_type": "execute_result"
    }
   ],
   "source": [
    "#### Clean the data ####\n",
    "\n",
    "#Morgan Stanley Institutional Fund, Inc. Global Advantage Portfolio \n",
    "\n",
    "fund_return=pd.read_csv('MIGPX.csv',index_col=0)\n",
    "\n",
    "fund_return=fund_return.replace(\" \",\"\")\n",
    "\n",
    "fund_return.dropna()\n",
    "\n",
    "fund_return.index=pd.to_datetime(fund_return.index, format=\"%Y-%m-%d\")\n",
    "\n",
    "fund_return.index=fund_return.index.to_period('M')\n",
    "\n",
    "fund_return.columns=fund_return.columns.str.strip()\n",
    "\n",
    "fund_return=fund_return/100\n",
    "\n",
    "fund_return=fund_return['Adj Close']\n",
    "\n",
    "fund_return=fund_return['2010':'2018']\n",
    "\n",
    "fund_return"
   ]
  },
  {
   "cell_type": "markdown",
   "metadata": {},
   "source": [
    "## 5. Do Sharpe-style analysis on this fund using three factors (market, size, value)"
   ]
  },
  {
   "cell_type": "code",
   "execution_count": 49,
   "metadata": {},
   "outputs": [
    {
     "data": {
      "text/html": [
       "<div>\n",
       "<style scoped>\n",
       "    .dataframe tbody tr th:only-of-type {\n",
       "        vertical-align: middle;\n",
       "    }\n",
       "\n",
       "    .dataframe tbody tr th {\n",
       "        vertical-align: top;\n",
       "    }\n",
       "\n",
       "    .dataframe thead th {\n",
       "        text-align: right;\n",
       "    }\n",
       "</style>\n",
       "<table border=\"1\" class=\"dataframe\">\n",
       "  <thead>\n",
       "    <tr style=\"text-align: right;\">\n",
       "      <th></th>\n",
       "      <th>Mkt-RF</th>\n",
       "      <th>SMB</th>\n",
       "      <th>HML</th>\n",
       "      <th>RF</th>\n",
       "    </tr>\n",
       "  </thead>\n",
       "  <tbody>\n",
       "    <tr>\n",
       "      <th>2018-08</th>\n",
       "      <td>0.0344</td>\n",
       "      <td>0.0123</td>\n",
       "      <td>-0.0412</td>\n",
       "      <td>0.0016</td>\n",
       "    </tr>\n",
       "    <tr>\n",
       "      <th>2018-09</th>\n",
       "      <td>0.0006</td>\n",
       "      <td>-0.0237</td>\n",
       "      <td>-0.0134</td>\n",
       "      <td>0.0015</td>\n",
       "    </tr>\n",
       "    <tr>\n",
       "      <th>2018-10</th>\n",
       "      <td>-0.0768</td>\n",
       "      <td>-0.0468</td>\n",
       "      <td>0.0341</td>\n",
       "      <td>0.0019</td>\n",
       "    </tr>\n",
       "    <tr>\n",
       "      <th>2018-11</th>\n",
       "      <td>0.0169</td>\n",
       "      <td>-0.0074</td>\n",
       "      <td>0.0020</td>\n",
       "      <td>0.0018</td>\n",
       "    </tr>\n",
       "    <tr>\n",
       "      <th>2018-12</th>\n",
       "      <td>-0.0955</td>\n",
       "      <td>-0.0261</td>\n",
       "      <td>-0.0151</td>\n",
       "      <td>0.0019</td>\n",
       "    </tr>\n",
       "  </tbody>\n",
       "</table>\n",
       "</div>"
      ],
      "text/plain": [
       "         Mkt-RF     SMB     HML      RF\n",
       "2018-08  0.0344  0.0123 -0.0412  0.0016\n",
       "2018-09  0.0006 -0.0237 -0.0134  0.0015\n",
       "2018-10 -0.0768 -0.0468  0.0341  0.0019\n",
       "2018-11  0.0169 -0.0074  0.0020  0.0018\n",
       "2018-12 -0.0955 -0.0261 -0.0151  0.0019"
      ]
     },
     "execution_count": 49,
     "metadata": {},
     "output_type": "execute_result"
    }
   ],
   "source": [
    "# Factor uploading\n",
    "\n",
    "fff=pd.read_csv('fff_factors.csv',index_col=0)\n",
    "fff.index=pd.to_datetime(fff.index, format=\"%Y%m\")\n",
    "fff=fff/100\n",
    "fff.index=fff.index.to_period('M')\n",
    "fff.tail()"
   ]
  },
  {
   "cell_type": "code",
   "execution_count": 50,
   "metadata": {},
   "outputs": [],
   "source": [
    "factors=fff.loc[\"2003\":\"2018\",['Mkt-RF','SMB','HML']]\n",
    "factors[\"constant\"]=1"
   ]
  },
  {
   "cell_type": "code",
   "execution_count": 51,
   "metadata": {},
   "outputs": [
    {
     "data": {
      "text/html": [
       "<div>\n",
       "<style scoped>\n",
       "    .dataframe tbody tr th:only-of-type {\n",
       "        vertical-align: middle;\n",
       "    }\n",
       "\n",
       "    .dataframe tbody tr th {\n",
       "        vertical-align: top;\n",
       "    }\n",
       "\n",
       "    .dataframe thead th {\n",
       "        text-align: right;\n",
       "    }\n",
       "</style>\n",
       "<table border=\"1\" class=\"dataframe\">\n",
       "  <thead>\n",
       "    <tr style=\"text-align: right;\">\n",
       "      <th></th>\n",
       "      <th>Mkt-RF</th>\n",
       "      <th>SMB</th>\n",
       "      <th>HML</th>\n",
       "      <th>constant</th>\n",
       "    </tr>\n",
       "  </thead>\n",
       "  <tbody>\n",
       "    <tr>\n",
       "      <th>2003-01</th>\n",
       "      <td>-0.0257</td>\n",
       "      <td>0.0139</td>\n",
       "      <td>-0.0093</td>\n",
       "      <td>1</td>\n",
       "    </tr>\n",
       "    <tr>\n",
       "      <th>2003-02</th>\n",
       "      <td>-0.0188</td>\n",
       "      <td>-0.0034</td>\n",
       "      <td>-0.0146</td>\n",
       "      <td>1</td>\n",
       "    </tr>\n",
       "    <tr>\n",
       "      <th>2003-03</th>\n",
       "      <td>0.0109</td>\n",
       "      <td>0.0089</td>\n",
       "      <td>-0.0209</td>\n",
       "      <td>1</td>\n",
       "    </tr>\n",
       "    <tr>\n",
       "      <th>2003-04</th>\n",
       "      <td>0.0822</td>\n",
       "      <td>0.0057</td>\n",
       "      <td>0.0103</td>\n",
       "      <td>1</td>\n",
       "    </tr>\n",
       "    <tr>\n",
       "      <th>2003-05</th>\n",
       "      <td>0.0605</td>\n",
       "      <td>0.0470</td>\n",
       "      <td>-0.0030</td>\n",
       "      <td>1</td>\n",
       "    </tr>\n",
       "    <tr>\n",
       "      <th>...</th>\n",
       "      <td>...</td>\n",
       "      <td>...</td>\n",
       "      <td>...</td>\n",
       "      <td>...</td>\n",
       "    </tr>\n",
       "    <tr>\n",
       "      <th>2018-08</th>\n",
       "      <td>0.0344</td>\n",
       "      <td>0.0123</td>\n",
       "      <td>-0.0412</td>\n",
       "      <td>1</td>\n",
       "    </tr>\n",
       "    <tr>\n",
       "      <th>2018-09</th>\n",
       "      <td>0.0006</td>\n",
       "      <td>-0.0237</td>\n",
       "      <td>-0.0134</td>\n",
       "      <td>1</td>\n",
       "    </tr>\n",
       "    <tr>\n",
       "      <th>2018-10</th>\n",
       "      <td>-0.0768</td>\n",
       "      <td>-0.0468</td>\n",
       "      <td>0.0341</td>\n",
       "      <td>1</td>\n",
       "    </tr>\n",
       "    <tr>\n",
       "      <th>2018-11</th>\n",
       "      <td>0.0169</td>\n",
       "      <td>-0.0074</td>\n",
       "      <td>0.0020</td>\n",
       "      <td>1</td>\n",
       "    </tr>\n",
       "    <tr>\n",
       "      <th>2018-12</th>\n",
       "      <td>-0.0955</td>\n",
       "      <td>-0.0261</td>\n",
       "      <td>-0.0151</td>\n",
       "      <td>1</td>\n",
       "    </tr>\n",
       "  </tbody>\n",
       "</table>\n",
       "<p>192 rows × 4 columns</p>\n",
       "</div>"
      ],
      "text/plain": [
       "         Mkt-RF     SMB     HML  constant\n",
       "2003-01 -0.0257  0.0139 -0.0093         1\n",
       "2003-02 -0.0188 -0.0034 -0.0146         1\n",
       "2003-03  0.0109  0.0089 -0.0209         1\n",
       "2003-04  0.0822  0.0057  0.0103         1\n",
       "2003-05  0.0605  0.0470 -0.0030         1\n",
       "...         ...     ...     ...       ...\n",
       "2018-08  0.0344  0.0123 -0.0412         1\n",
       "2018-09  0.0006 -0.0237 -0.0134         1\n",
       "2018-10 -0.0768 -0.0468  0.0341         1\n",
       "2018-11  0.0169 -0.0074  0.0020         1\n",
       "2018-12 -0.0955 -0.0261 -0.0151         1\n",
       "\n",
       "[192 rows x 4 columns]"
      ]
     },
     "execution_count": 51,
     "metadata": {},
     "output_type": "execute_result"
    }
   ],
   "source": [
    "factors"
   ]
  },
  {
   "cell_type": "code",
   "execution_count": 52,
   "metadata": {},
   "outputs": [],
   "source": [
    "weights = style_analysis(fund_return,factors)"
   ]
  },
  {
   "cell_type": "code",
   "execution_count": 53,
   "metadata": {},
   "outputs": [
    {
     "data": {
      "text/plain": [
       "Mkt-RF      0.064457\n",
       "SMB         0.489089\n",
       "HML         0.347908\n",
       "constant    0.098546\n",
       "dtype: float64"
      ]
     },
     "execution_count": 53,
     "metadata": {},
     "output_type": "execute_result"
    }
   ],
   "source": [
    "weights"
   ]
  },
  {
   "cell_type": "code",
   "execution_count": 54,
   "metadata": {},
   "outputs": [
    {
     "data": {
      "text/plain": [
       "<matplotlib.axes._subplots.AxesSubplot at 0x101ca3f950>"
      ]
     },
     "execution_count": 54,
     "metadata": {},
     "output_type": "execute_result"
    },
    {
     "data": {
      "image/png": "[encoded data removed]",
      "text/plain": [
       "<Figure size 432x288 with 1 Axes>"
      ]
     },
     "metadata": {
      "needs_background": "light"
     },
     "output_type": "display_data"
    }
   ],
   "source": [
    "weights.plot.bar()"
   ]
  },
  {
   "cell_type": "code",
   "execution_count": 55,
   "metadata": {},
   "outputs": [],
   "source": [
    "factor_exposure = dict(weights)"
   ]
  },
  {
   "cell_type": "code",
   "execution_count": 56,
   "metadata": {},
   "outputs": [
    {
     "name": "stdout",
     "output_type": "stream",
     "text": [
      "The exposure of the fund to the factor Mkt-RF is 0.064457\n",
      "The exposure of the fund to the factor SMB is 0.489089\n",
      "The exposure of the fund to the factor HML is 0.347908\n",
      "The exposure of the fund to the factor constant is 0.098546\n"
     ]
    }
   ],
   "source": [
    "for factor in factor_exposure:\n",
    "    print(f'The exposure of the fund to the factor {factor} is {round(factor_exposure.get(factor),6)}')"
   ]
  }
 ],
 "metadata": {
  "kernelspec": {
   "display_name": "Python 3",
   "language": "python",
   "name": "python3"
  },
  "language_info": {
   "codemirror_mode": {
    "name": "ipython",
    "version": 3
   },
   "file_extension": ".py",
   "mimetype": "text/x-python",
   "name": "python",
   "nbconvert_exporter": "python",
   "pygments_lexer": "ipython3",
   "version": "3.7.6"
  }
 },
 "nbformat": 4,
 "nbformat_minor": 2
}
