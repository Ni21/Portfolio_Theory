{
 "cells": [
  {
   "cell_type": "markdown",
   "metadata": {},
   "source": [
    "# Lab Report 1\n",
    "# Group 3\n",
    "# Caroline Kuntz\n",
    "# Niklas Landsberg"
   ]
  },
  {
   "cell_type": "code",
   "execution_count": 1,
   "metadata": {},
   "outputs": [],
   "source": [
    "import pandas as pd\n",
    "import numpy as np"
   ]
  },
  {
   "cell_type": "code",
   "execution_count": 2,
   "metadata": {},
   "outputs": [],
   "source": [
    "#Assumptions\n",
    "risk_free_rate=0.002"
   ]
  },
  {
   "cell_type": "code",
   "execution_count": 3,
   "metadata": {
    "scrolled": true
   },
   "outputs": [
    {
     "data": {
      "text/html": [
       "<div>\n",
       "<style scoped>\n",
       "    .dataframe tbody tr th:only-of-type {\n",
       "        vertical-align: middle;\n",
       "    }\n",
       "\n",
       "    .dataframe tbody tr th {\n",
       "        vertical-align: top;\n",
       "    }\n",
       "\n",
       "    .dataframe thead th {\n",
       "        text-align: right;\n",
       "    }\n",
       "</style>\n",
       "<table border=\"1\" class=\"dataframe\">\n",
       "  <thead>\n",
       "    <tr style=\"text-align: right;\">\n",
       "      <th></th>\n",
       "      <th>Food</th>\n",
       "      <th>Beer</th>\n",
       "      <th>Smoke</th>\n",
       "      <th>Games</th>\n",
       "      <th>Books</th>\n",
       "      <th>Hshld</th>\n",
       "      <th>Clths</th>\n",
       "      <th>Hlth</th>\n",
       "      <th>Chems</th>\n",
       "      <th>Txtls</th>\n",
       "      <th>...</th>\n",
       "      <th>Telcm</th>\n",
       "      <th>Servs</th>\n",
       "      <th>BusEq</th>\n",
       "      <th>Paper</th>\n",
       "      <th>Trans</th>\n",
       "      <th>Whlsl</th>\n",
       "      <th>Rtail</th>\n",
       "      <th>Meals</th>\n",
       "      <th>Fin</th>\n",
       "      <th>Other</th>\n",
       "    </tr>\n",
       "  </thead>\n",
       "  <tbody>\n",
       "    <tr>\n",
       "      <td>1926-07</td>\n",
       "      <td>0.56</td>\n",
       "      <td>-5.19</td>\n",
       "      <td>1.29</td>\n",
       "      <td>2.93</td>\n",
       "      <td>10.97</td>\n",
       "      <td>-0.48</td>\n",
       "      <td>8.08</td>\n",
       "      <td>1.77</td>\n",
       "      <td>8.14</td>\n",
       "      <td>0.39</td>\n",
       "      <td>...</td>\n",
       "      <td>0.83</td>\n",
       "      <td>9.22</td>\n",
       "      <td>2.06</td>\n",
       "      <td>7.70</td>\n",
       "      <td>1.93</td>\n",
       "      <td>-23.79</td>\n",
       "      <td>0.07</td>\n",
       "      <td>1.87</td>\n",
       "      <td>0.37</td>\n",
       "      <td>5.20</td>\n",
       "    </tr>\n",
       "    <tr>\n",
       "      <td>1926-08</td>\n",
       "      <td>2.59</td>\n",
       "      <td>27.03</td>\n",
       "      <td>6.50</td>\n",
       "      <td>0.55</td>\n",
       "      <td>10.01</td>\n",
       "      <td>-3.58</td>\n",
       "      <td>-2.51</td>\n",
       "      <td>4.25</td>\n",
       "      <td>5.50</td>\n",
       "      <td>8.14</td>\n",
       "      <td>...</td>\n",
       "      <td>2.17</td>\n",
       "      <td>2.02</td>\n",
       "      <td>4.39</td>\n",
       "      <td>-2.38</td>\n",
       "      <td>4.88</td>\n",
       "      <td>5.39</td>\n",
       "      <td>-0.75</td>\n",
       "      <td>-0.13</td>\n",
       "      <td>4.46</td>\n",
       "      <td>6.76</td>\n",
       "    </tr>\n",
       "    <tr>\n",
       "      <td>1926-09</td>\n",
       "      <td>1.16</td>\n",
       "      <td>4.02</td>\n",
       "      <td>1.26</td>\n",
       "      <td>6.58</td>\n",
       "      <td>-0.99</td>\n",
       "      <td>0.73</td>\n",
       "      <td>-0.51</td>\n",
       "      <td>0.69</td>\n",
       "      <td>5.33</td>\n",
       "      <td>2.31</td>\n",
       "      <td>...</td>\n",
       "      <td>2.41</td>\n",
       "      <td>2.25</td>\n",
       "      <td>0.19</td>\n",
       "      <td>-5.54</td>\n",
       "      <td>0.05</td>\n",
       "      <td>-7.87</td>\n",
       "      <td>0.25</td>\n",
       "      <td>-0.56</td>\n",
       "      <td>-1.23</td>\n",
       "      <td>-3.86</td>\n",
       "    </tr>\n",
       "    <tr>\n",
       "      <td>1926-10</td>\n",
       "      <td>-3.06</td>\n",
       "      <td>-3.31</td>\n",
       "      <td>1.06</td>\n",
       "      <td>-4.76</td>\n",
       "      <td>9.47</td>\n",
       "      <td>-4.68</td>\n",
       "      <td>0.12</td>\n",
       "      <td>-0.57</td>\n",
       "      <td>-4.76</td>\n",
       "      <td>1.00</td>\n",
       "      <td>...</td>\n",
       "      <td>-0.11</td>\n",
       "      <td>-2.00</td>\n",
       "      <td>-1.09</td>\n",
       "      <td>-5.08</td>\n",
       "      <td>-2.64</td>\n",
       "      <td>-15.38</td>\n",
       "      <td>-2.20</td>\n",
       "      <td>-4.11</td>\n",
       "      <td>-5.16</td>\n",
       "      <td>-8.49</td>\n",
       "    </tr>\n",
       "    <tr>\n",
       "      <td>1926-11</td>\n",
       "      <td>6.35</td>\n",
       "      <td>7.29</td>\n",
       "      <td>4.55</td>\n",
       "      <td>1.66</td>\n",
       "      <td>-5.80</td>\n",
       "      <td>-0.54</td>\n",
       "      <td>1.87</td>\n",
       "      <td>5.42</td>\n",
       "      <td>5.20</td>\n",
       "      <td>3.11</td>\n",
       "      <td>...</td>\n",
       "      <td>1.63</td>\n",
       "      <td>3.77</td>\n",
       "      <td>3.64</td>\n",
       "      <td>3.84</td>\n",
       "      <td>1.60</td>\n",
       "      <td>4.67</td>\n",
       "      <td>6.52</td>\n",
       "      <td>4.33</td>\n",
       "      <td>2.24</td>\n",
       "      <td>4.00</td>\n",
       "    </tr>\n",
       "  </tbody>\n",
       "</table>\n",
       "<p>5 rows × 30 columns</p>\n",
       "</div>"
      ],
      "text/plain": [
       "         Food   Beer  Smoke  Games  Books  Hshld  Clths  Hlth  Chems  Txtls  \\\n",
       "1926-07  0.56  -5.19   1.29   2.93  10.97  -0.48   8.08  1.77   8.14   0.39   \n",
       "1926-08  2.59  27.03   6.50   0.55  10.01  -3.58  -2.51  4.25   5.50   8.14   \n",
       "1926-09  1.16   4.02   1.26   6.58  -0.99   0.73  -0.51  0.69   5.33   2.31   \n",
       "1926-10 -3.06  -3.31   1.06  -4.76   9.47  -4.68   0.12 -0.57  -4.76   1.00   \n",
       "1926-11  6.35   7.29   4.55   1.66  -5.80  -0.54   1.87  5.42   5.20   3.11   \n",
       "\n",
       "         ...  Telcm  Servs  BusEq  Paper  Trans  Whlsl  Rtail  Meals   Fin  \\\n",
       "1926-07  ...   0.83   9.22   2.06   7.70   1.93 -23.79   0.07   1.87  0.37   \n",
       "1926-08  ...   2.17   2.02   4.39  -2.38   4.88   5.39  -0.75  -0.13  4.46   \n",
       "1926-09  ...   2.41   2.25   0.19  -5.54   0.05  -7.87   0.25  -0.56 -1.23   \n",
       "1926-10  ...  -0.11  -2.00  -1.09  -5.08  -2.64 -15.38  -2.20  -4.11 -5.16   \n",
       "1926-11  ...   1.63   3.77   3.64   3.84   1.60   4.67   6.52   4.33  2.24   \n",
       "\n",
       "         Other  \n",
       "1926-07   5.20  \n",
       "1926-08   6.76  \n",
       "1926-09  -3.86  \n",
       "1926-10  -8.49  \n",
       "1926-11   4.00  \n",
       "\n",
       "[5 rows x 30 columns]"
      ]
     },
     "execution_count": 3,
     "metadata": {},
     "output_type": "execute_result"
    }
   ],
   "source": [
    "#### Clean the data\n",
    "#Downloaded data has to be freed from any information that is not necessary like \"Copy right etc\"\n",
    "data_return = pd.read_csv('industry_portfolios_30.csv',index_col=0)\n",
    "\n",
    "#Get rid off unnecessary spaces in rows\n",
    "data_return= data_return.replace(\" \",\"\")\n",
    "\n",
    "#Get rid off excessive columns\n",
    "data_return.columns=data_return.columns.str.strip()\n",
    "\n",
    "#Get rid off non-values\n",
    "data_return.dropna()\n",
    "\n",
    "#Format the date\n",
    "data_return.index=pd.to_datetime(data_return.index, format=\"%Y%m\")\n",
    "\n",
    "#Format the date\n",
    "data_return.index=data_return.index.to_period('M')\n",
    "\n",
    "#Print oldest 5 dates\n",
    "data_return.head()"
   ]
  },
  {
   "cell_type": "code",
   "execution_count": 4,
   "metadata": {},
   "outputs": [],
   "source": [
    "#Convert the returns into percentages\n",
    "data_return=data_return/100"
   ]
  },
  {
   "cell_type": "code",
   "execution_count": 5,
   "metadata": {},
   "outputs": [
    {
     "data": {
      "text/plain": [
       "<matplotlib.axes._subplots.AxesSubplot at 0x1191cdc10>"
      ]
     },
     "execution_count": 5,
     "metadata": {},
     "output_type": "execute_result"
    }
   ],
   "source": [
    "data_return.plot.line()"
   ]
  },
  {
   "cell_type": "markdown",
   "metadata": {},
   "source": [
    "# Sharpe Ratio"
   ]
  },
  {
   "cell_type": "code",
   "execution_count": 6,
   "metadata": {},
   "outputs": [],
   "source": [
    "#Calculate the sharpe ratio as a measurement for risk-adjusted performance\n",
    "sharpe_ratio=(data_return.mean()-risk_free_rate)/data_return.std()"
   ]
  },
  {
   "cell_type": "code",
   "execution_count": 7,
   "metadata": {
    "scrolled": true
   },
   "outputs": [
    {
     "data": {
      "text/plain": [
       "Food     0.162684\n",
       "Smoke    0.162024\n",
       "Hlth     0.159579\n",
       "Telcm    0.144384\n",
       "Rtail    0.141637\n",
       "BusEq    0.140862\n",
       "Beer     0.140090\n",
       "Paper    0.139612\n",
       "Meals    0.135393\n",
       "Chems    0.134712\n",
       "Oil      0.129935\n",
       "ElcEq    0.127938\n",
       "Hshld    0.126785\n",
       "Util     0.124913\n",
       "Carry    0.124456\n",
       "Servs    0.123708\n",
       "Clths    0.123708\n",
       "Fin      0.122554\n",
       "FabPr    0.119594\n",
       "Autos    0.109806\n",
       "Cnstr    0.109484\n",
       "Games    0.106131\n",
       "Trans    0.102380\n",
       "Txtls    0.099321\n",
       "Books    0.097192\n",
       "Mines    0.096294\n",
       "Other    0.087774\n",
       "Whlsl    0.086345\n",
       "Steel    0.082287\n",
       "Coal     0.072994\n",
       "dtype: float64"
      ]
     },
     "execution_count": 7,
     "metadata": {},
     "output_type": "execute_result"
    }
   ],
   "source": [
    "sharpe_ratio.sort_values(ascending=False)"
   ]
  },
  {
   "cell_type": "code",
   "execution_count": 8,
   "metadata": {},
   "outputs": [
    {
     "data": {
      "text/plain": [
       "<matplotlib.axes._subplots.AxesSubplot at 0x119da6ad0>"
      ]
     },
     "execution_count": 8,
     "metadata": {},
     "output_type": "execute_result"
    },
    {
     "data": {
      "image/png": "[encoded data removed]",
      "text/plain": [
       "<Figure size 432x432 with 1 Axes>"
      ]
     },
     "metadata": {
      "needs_background": "light"
     },
     "output_type": "display_data"
    }
   ],
   "source": [
    "# Print maximum sharpe ratio\n",
    "sharpe_ratio.plot.bar(title='Sharpe Ratio by Industries',figsize=(6,6),grid=\"Axis Gridline\")"
   ]
  },
  {
   "cell_type": "code",
   "execution_count": 9,
   "metadata": {},
   "outputs": [
    {
     "data": {
      "text/plain": [
       "0.16268369363925314"
      ]
     },
     "execution_count": 9,
     "metadata": {},
     "output_type": "execute_result"
    }
   ],
   "source": [
    "# Print name of industry with maximum sharpe ratio !! Generic: find a way how python directly says \n",
    "# which is the highest value !!!\n",
    "sharpe_ratio.max()"
   ]
  },
  {
   "cell_type": "markdown",
   "metadata": {},
   "source": [
    "Food has the highest Sharpe Ratio"
   ]
  },
  {
   "cell_type": "code",
   "execution_count": 10,
   "metadata": {},
   "outputs": [],
   "source": [
    "#Annualised Sharpe Ratio\n",
    "ann_sharpe_ratio=sharpe_ratio*(252**0.5)"
   ]
  },
  {
   "cell_type": "code",
   "execution_count": 11,
   "metadata": {},
   "outputs": [
    {
     "data": {
      "text/plain": [
       "<matplotlib.axes._subplots.AxesSubplot at 0x118c49cd0>"
      ]
     },
     "execution_count": 11,
     "metadata": {},
     "output_type": "execute_result"
    },
    {
     "data": {
      "image/png": "[encoded data removed]",
      "text/plain": [
       "<Figure size 432x432 with 1 Axes>"
      ]
     },
     "metadata": {
      "needs_background": "light"
     },
     "output_type": "display_data"
    }
   ],
   "source": [
    "ann_sharpe_ratio.plot.bar(title='Annualised Sharpe Ratio By Industry',figsize=(6,6),grid=\"Axis Gridline\")"
   ]
  },
  {
   "cell_type": "markdown",
   "metadata": {},
   "source": [
    "# Industry size"
   ]
  },
  {
   "cell_type": "code",
   "execution_count": 12,
   "metadata": {},
   "outputs": [
    {
     "data": {
      "text/html": [
       "<div>\n",
       "<style scoped>\n",
       "    .dataframe tbody tr th:only-of-type {\n",
       "        vertical-align: middle;\n",
       "    }\n",
       "\n",
       "    .dataframe tbody tr th {\n",
       "        vertical-align: top;\n",
       "    }\n",
       "\n",
       "    .dataframe thead th {\n",
       "        text-align: right;\n",
       "    }\n",
       "</style>\n",
       "<table border=\"1\" class=\"dataframe\">\n",
       "  <thead>\n",
       "    <tr style=\"text-align: right;\">\n",
       "      <th></th>\n",
       "      <th>Food</th>\n",
       "      <th>Beer</th>\n",
       "      <th>Smoke</th>\n",
       "      <th>Games</th>\n",
       "      <th>Books</th>\n",
       "      <th>Hshld</th>\n",
       "      <th>Clths</th>\n",
       "      <th>Hlth</th>\n",
       "      <th>Chems</th>\n",
       "      <th>Txtls</th>\n",
       "      <th>...</th>\n",
       "      <th>Telcm</th>\n",
       "      <th>Servs</th>\n",
       "      <th>BusEq</th>\n",
       "      <th>Paper</th>\n",
       "      <th>Trans</th>\n",
       "      <th>Whlsl</th>\n",
       "      <th>Rtail</th>\n",
       "      <th>Meals</th>\n",
       "      <th>Fin</th>\n",
       "      <th>Other</th>\n",
       "    </tr>\n",
       "  </thead>\n",
       "  <tbody>\n",
       "    <tr>\n",
       "      <td>1926-07</td>\n",
       "      <td>35.98</td>\n",
       "      <td>7.12</td>\n",
       "      <td>59.72</td>\n",
       "      <td>26.41</td>\n",
       "      <td>12.02</td>\n",
       "      <td>22.27</td>\n",
       "      <td>18.36</td>\n",
       "      <td>25.52</td>\n",
       "      <td>57.59</td>\n",
       "      <td>6.18</td>\n",
       "      <td>...</td>\n",
       "      <td>350.36</td>\n",
       "      <td>13.60</td>\n",
       "      <td>56.70</td>\n",
       "      <td>35.35</td>\n",
       "      <td>66.91</td>\n",
       "      <td>1.19</td>\n",
       "      <td>46.65</td>\n",
       "      <td>10.82</td>\n",
       "      <td>18.83</td>\n",
       "      <td>24.25</td>\n",
       "    </tr>\n",
       "    <tr>\n",
       "      <td>1926-08</td>\n",
       "      <td>36.10</td>\n",
       "      <td>6.75</td>\n",
       "      <td>60.47</td>\n",
       "      <td>27.17</td>\n",
       "      <td>13.33</td>\n",
       "      <td>22.13</td>\n",
       "      <td>19.83</td>\n",
       "      <td>25.80</td>\n",
       "      <td>62.13</td>\n",
       "      <td>6.20</td>\n",
       "      <td>...</td>\n",
       "      <td>353.27</td>\n",
       "      <td>14.75</td>\n",
       "      <td>57.74</td>\n",
       "      <td>37.86</td>\n",
       "      <td>67.99</td>\n",
       "      <td>0.90</td>\n",
       "      <td>46.57</td>\n",
       "      <td>11.00</td>\n",
       "      <td>18.88</td>\n",
       "      <td>25.51</td>\n",
       "    </tr>\n",
       "    <tr>\n",
       "      <td>1926-09</td>\n",
       "      <td>37.00</td>\n",
       "      <td>8.58</td>\n",
       "      <td>64.03</td>\n",
       "      <td>27.30</td>\n",
       "      <td>14.67</td>\n",
       "      <td>21.18</td>\n",
       "      <td>19.29</td>\n",
       "      <td>26.73</td>\n",
       "      <td>65.53</td>\n",
       "      <td>6.71</td>\n",
       "      <td>...</td>\n",
       "      <td>360.96</td>\n",
       "      <td>15.05</td>\n",
       "      <td>59.61</td>\n",
       "      <td>36.82</td>\n",
       "      <td>71.02</td>\n",
       "      <td>0.95</td>\n",
       "      <td>46.11</td>\n",
       "      <td>10.94</td>\n",
       "      <td>19.67</td>\n",
       "      <td>27.21</td>\n",
       "    </tr>\n",
       "    <tr>\n",
       "      <td>1926-10</td>\n",
       "      <td>37.14</td>\n",
       "      <td>8.92</td>\n",
       "      <td>64.42</td>\n",
       "      <td>28.76</td>\n",
       "      <td>14.42</td>\n",
       "      <td>21.23</td>\n",
       "      <td>19.03</td>\n",
       "      <td>26.87</td>\n",
       "      <td>68.47</td>\n",
       "      <td>6.82</td>\n",
       "      <td>...</td>\n",
       "      <td>364.16</td>\n",
       "      <td>15.30</td>\n",
       "      <td>59.52</td>\n",
       "      <td>34.77</td>\n",
       "      <td>70.83</td>\n",
       "      <td>0.88</td>\n",
       "      <td>46.15</td>\n",
       "      <td>10.80</td>\n",
       "      <td>19.36</td>\n",
       "      <td>26.16</td>\n",
       "    </tr>\n",
       "    <tr>\n",
       "      <td>1926-11</td>\n",
       "      <td>35.88</td>\n",
       "      <td>8.62</td>\n",
       "      <td>65.08</td>\n",
       "      <td>27.38</td>\n",
       "      <td>15.79</td>\n",
       "      <td>20.14</td>\n",
       "      <td>19.03</td>\n",
       "      <td>26.54</td>\n",
       "      <td>65.06</td>\n",
       "      <td>6.84</td>\n",
       "      <td>...</td>\n",
       "      <td>363.74</td>\n",
       "      <td>14.89</td>\n",
       "      <td>58.74</td>\n",
       "      <td>32.80</td>\n",
       "      <td>68.75</td>\n",
       "      <td>0.74</td>\n",
       "      <td>45.03</td>\n",
       "      <td>10.33</td>\n",
       "      <td>18.35</td>\n",
       "      <td>23.94</td>\n",
       "    </tr>\n",
       "  </tbody>\n",
       "</table>\n",
       "<p>5 rows × 30 columns</p>\n",
       "</div>"
      ],
      "text/plain": [
       "          Food  Beer  Smoke  Games  Books  Hshld  Clths   Hlth  Chems  Txtls  \\\n",
       "1926-07  35.98  7.12  59.72  26.41  12.02  22.27  18.36  25.52  57.59   6.18   \n",
       "1926-08  36.10  6.75  60.47  27.17  13.33  22.13  19.83  25.80  62.13   6.20   \n",
       "1926-09  37.00  8.58  64.03  27.30  14.67  21.18  19.29  26.73  65.53   6.71   \n",
       "1926-10  37.14  8.92  64.42  28.76  14.42  21.23  19.03  26.87  68.47   6.82   \n",
       "1926-11  35.88  8.62  65.08  27.38  15.79  20.14  19.03  26.54  65.06   6.84   \n",
       "\n",
       "         ...   Telcm  Servs  BusEq  Paper  Trans  Whlsl  Rtail  Meals    Fin  \\\n",
       "1926-07  ...  350.36  13.60  56.70  35.35  66.91   1.19  46.65  10.82  18.83   \n",
       "1926-08  ...  353.27  14.75  57.74  37.86  67.99   0.90  46.57  11.00  18.88   \n",
       "1926-09  ...  360.96  15.05  59.61  36.82  71.02   0.95  46.11  10.94  19.67   \n",
       "1926-10  ...  364.16  15.30  59.52  34.77  70.83   0.88  46.15  10.80  19.36   \n",
       "1926-11  ...  363.74  14.89  58.74  32.80  68.75   0.74  45.03  10.33  18.35   \n",
       "\n",
       "         Other  \n",
       "1926-07  24.25  \n",
       "1926-08  25.51  \n",
       "1926-09  27.21  \n",
       "1926-10  26.16  \n",
       "1926-11  23.94  \n",
       "\n",
       "[5 rows x 30 columns]"
      ]
     },
     "execution_count": 12,
     "metadata": {},
     "output_type": "execute_result"
    }
   ],
   "source": [
    "#### Clean the data\n",
    "#Downloaded data has to be freed from any information that is not necessary like \"Copy right etc\"\n",
    "data_size = pd.read_csv('average_firm_size_30_industry_portfolios.csv',index_col=0)\n",
    "\n",
    "#Get rid of unnecessary spaces in rows\n",
    "data_size= data_size.replace(\" \",\"\")\n",
    "\n",
    "#Get rid off excessive columns\n",
    "data_size.columns=data_size.columns.str.strip()\n",
    "\n",
    "#Get rid off non-values\n",
    "data_size.dropna()\n",
    "\n",
    "#Format the date\n",
    "data_size.index=pd.to_datetime(data_size.index, format=\"%Y%m\")\n",
    "\n",
    "#Format the date\n",
    "data_size.index=data_size.index.to_period('M')\n",
    "\n",
    "#Print oldest 5 dates\n",
    "data_size.head()"
   ]
  },
  {
   "cell_type": "code",
   "execution_count": 13,
   "metadata": {},
   "outputs": [
    {
     "data": {
      "text/html": [
       "<div>\n",
       "<style scoped>\n",
       "    .dataframe tbody tr th:only-of-type {\n",
       "        vertical-align: middle;\n",
       "    }\n",
       "\n",
       "    .dataframe tbody tr th {\n",
       "        vertical-align: top;\n",
       "    }\n",
       "\n",
       "    .dataframe thead th {\n",
       "        text-align: right;\n",
       "    }\n",
       "</style>\n",
       "<table border=\"1\" class=\"dataframe\">\n",
       "  <thead>\n",
       "    <tr style=\"text-align: right;\">\n",
       "      <th></th>\n",
       "      <th>Food</th>\n",
       "      <th>Beer</th>\n",
       "      <th>Smoke</th>\n",
       "      <th>Games</th>\n",
       "      <th>Books</th>\n",
       "      <th>Hshld</th>\n",
       "      <th>Clths</th>\n",
       "      <th>Hlth</th>\n",
       "      <th>Chems</th>\n",
       "      <th>Txtls</th>\n",
       "      <th>...</th>\n",
       "      <th>Telcm</th>\n",
       "      <th>Servs</th>\n",
       "      <th>BusEq</th>\n",
       "      <th>Paper</th>\n",
       "      <th>Trans</th>\n",
       "      <th>Whlsl</th>\n",
       "      <th>Rtail</th>\n",
       "      <th>Meals</th>\n",
       "      <th>Fin</th>\n",
       "      <th>Other</th>\n",
       "    </tr>\n",
       "  </thead>\n",
       "  <tbody>\n",
       "    <tr>\n",
       "      <td>1926-07</td>\n",
       "      <td>43</td>\n",
       "      <td>3</td>\n",
       "      <td>16</td>\n",
       "      <td>7</td>\n",
       "      <td>2</td>\n",
       "      <td>8</td>\n",
       "      <td>12</td>\n",
       "      <td>7</td>\n",
       "      <td>17</td>\n",
       "      <td>13</td>\n",
       "      <td>...</td>\n",
       "      <td>5</td>\n",
       "      <td>3</td>\n",
       "      <td>7</td>\n",
       "      <td>6</td>\n",
       "      <td>74</td>\n",
       "      <td>2</td>\n",
       "      <td>33</td>\n",
       "      <td>6</td>\n",
       "      <td>12</td>\n",
       "      <td>4</td>\n",
       "    </tr>\n",
       "    <tr>\n",
       "      <td>1926-08</td>\n",
       "      <td>43</td>\n",
       "      <td>3</td>\n",
       "      <td>16</td>\n",
       "      <td>7</td>\n",
       "      <td>2</td>\n",
       "      <td>8</td>\n",
       "      <td>12</td>\n",
       "      <td>7</td>\n",
       "      <td>17</td>\n",
       "      <td>13</td>\n",
       "      <td>...</td>\n",
       "      <td>5</td>\n",
       "      <td>3</td>\n",
       "      <td>7</td>\n",
       "      <td>6</td>\n",
       "      <td>74</td>\n",
       "      <td>2</td>\n",
       "      <td>33</td>\n",
       "      <td>6</td>\n",
       "      <td>12</td>\n",
       "      <td>4</td>\n",
       "    </tr>\n",
       "    <tr>\n",
       "      <td>1926-09</td>\n",
       "      <td>43</td>\n",
       "      <td>3</td>\n",
       "      <td>16</td>\n",
       "      <td>7</td>\n",
       "      <td>2</td>\n",
       "      <td>8</td>\n",
       "      <td>12</td>\n",
       "      <td>7</td>\n",
       "      <td>17</td>\n",
       "      <td>13</td>\n",
       "      <td>...</td>\n",
       "      <td>5</td>\n",
       "      <td>3</td>\n",
       "      <td>7</td>\n",
       "      <td>6</td>\n",
       "      <td>74</td>\n",
       "      <td>2</td>\n",
       "      <td>33</td>\n",
       "      <td>6</td>\n",
       "      <td>12</td>\n",
       "      <td>4</td>\n",
       "    </tr>\n",
       "    <tr>\n",
       "      <td>1926-10</td>\n",
       "      <td>43</td>\n",
       "      <td>3</td>\n",
       "      <td>16</td>\n",
       "      <td>7</td>\n",
       "      <td>2</td>\n",
       "      <td>8</td>\n",
       "      <td>12</td>\n",
       "      <td>7</td>\n",
       "      <td>17</td>\n",
       "      <td>13</td>\n",
       "      <td>...</td>\n",
       "      <td>5</td>\n",
       "      <td>3</td>\n",
       "      <td>7</td>\n",
       "      <td>6</td>\n",
       "      <td>74</td>\n",
       "      <td>2</td>\n",
       "      <td>33</td>\n",
       "      <td>6</td>\n",
       "      <td>12</td>\n",
       "      <td>4</td>\n",
       "    </tr>\n",
       "    <tr>\n",
       "      <td>1926-11</td>\n",
       "      <td>43</td>\n",
       "      <td>3</td>\n",
       "      <td>16</td>\n",
       "      <td>7</td>\n",
       "      <td>2</td>\n",
       "      <td>8</td>\n",
       "      <td>12</td>\n",
       "      <td>7</td>\n",
       "      <td>17</td>\n",
       "      <td>13</td>\n",
       "      <td>...</td>\n",
       "      <td>5</td>\n",
       "      <td>3</td>\n",
       "      <td>7</td>\n",
       "      <td>6</td>\n",
       "      <td>74</td>\n",
       "      <td>2</td>\n",
       "      <td>33</td>\n",
       "      <td>6</td>\n",
       "      <td>12</td>\n",
       "      <td>4</td>\n",
       "    </tr>\n",
       "  </tbody>\n",
       "</table>\n",
       "<p>5 rows × 30 columns</p>\n",
       "</div>"
      ],
      "text/plain": [
       "         Food  Beer  Smoke  Games  Books  Hshld  Clths  Hlth  Chems  Txtls  \\\n",
       "1926-07    43     3     16      7      2      8     12     7     17     13   \n",
       "1926-08    43     3     16      7      2      8     12     7     17     13   \n",
       "1926-09    43     3     16      7      2      8     12     7     17     13   \n",
       "1926-10    43     3     16      7      2      8     12     7     17     13   \n",
       "1926-11    43     3     16      7      2      8     12     7     17     13   \n",
       "\n",
       "         ...  Telcm  Servs  BusEq  Paper  Trans  Whlsl  Rtail  Meals  Fin  \\\n",
       "1926-07  ...      5      3      7      6     74      2     33      6   12   \n",
       "1926-08  ...      5      3      7      6     74      2     33      6   12   \n",
       "1926-09  ...      5      3      7      6     74      2     33      6   12   \n",
       "1926-10  ...      5      3      7      6     74      2     33      6   12   \n",
       "1926-11  ...      5      3      7      6     74      2     33      6   12   \n",
       "\n",
       "         Other  \n",
       "1926-07      4  \n",
       "1926-08      4  \n",
       "1926-09      4  \n",
       "1926-10      4  \n",
       "1926-11      4  \n",
       "\n",
       "[5 rows x 30 columns]"
      ]
     },
     "execution_count": 13,
     "metadata": {},
     "output_type": "execute_result"
    }
   ],
   "source": [
    "#### Clean the data\n",
    "#Downloaded data has to be freed from any information that is not necessary like \"Copy right etc\"\n",
    "data_nfirms = pd.read_csv('nfirms_30_industry_portfolios.csv',index_col=0)\n",
    "\n",
    "#Get rid of unnecessary spaces in rows\n",
    "data_nfirms= data_nfirms.replace(\" \",\"\")\n",
    "\n",
    "#Get rid off excessive columns\n",
    "data_nfirms.columns=data_nfirms.columns.str.strip()\n",
    "\n",
    "#Get rid off non-values\n",
    "data_nfirms.dropna()\n",
    "\n",
    "#Format the date\n",
    "data_nfirms.index=pd.to_datetime(data_nfirms.index, format=\"%Y%m\")\n",
    "\n",
    "#Format the date\n",
    "data_nfirms.index=data_nfirms.index.to_period('M')\n",
    "\n",
    "#Print oldest 5 dates\n",
    "data_nfirms.head()"
   ]
  },
  {
   "cell_type": "code",
   "execution_count": 14,
   "metadata": {},
   "outputs": [
    {
     "data": {
      "text/plain": [
       "(1122, 30)"
      ]
     },
     "execution_count": 14,
     "metadata": {},
     "output_type": "execute_result"
    }
   ],
   "source": [
    "#Checking if same length of period and industries\n",
    "#rows, colums\n",
    "data_nfirms.shape\n",
    "\n",
    "#rows, colums\n",
    "data_size.shape"
   ]
  },
  {
   "cell_type": "code",
   "execution_count": 15,
   "metadata": {},
   "outputs": [],
   "source": [
    "data_market_cap=data_nfirms*data_size"
   ]
  },
  {
   "cell_type": "code",
   "execution_count": 16,
   "metadata": {
    "scrolled": true
   },
   "outputs": [
    {
     "data": {
      "text/plain": [
       "<matplotlib.axes._subplots.AxesSubplot at 0x11a108150>"
      ]
     },
     "execution_count": 16,
     "metadata": {},
     "output_type": "execute_result"
    },
    {
     "data": {
      "image/png": "[encoded data removed]",
      "text/plain": [
       "<Figure size 864x432 with 1 Axes>"
      ]
     },
     "metadata": {
      "needs_background": "light"
     },
     "output_type": "display_data"
    }
   ],
   "source": [
    "#!!! Careful it is the average monthly size of the industry in 2018 and not the yearly !!! \n",
    "\n",
    "data_market_cap['2018'].mean().plot.bar(figsize=(12,6),title='Average Market Cap of industry in 2018',grid=\"Axis Gridline\")"
   ]
  },
  {
   "cell_type": "code",
   "execution_count": 17,
   "metadata": {},
   "outputs": [],
   "source": [
    "data_market_cap_2018=data_market_cap['2018'].mean()"
   ]
  },
  {
   "cell_type": "code",
   "execution_count": 18,
   "metadata": {},
   "outputs": [
    {
     "data": {
      "text/plain": [
       "4853888.285833333"
      ]
     },
     "execution_count": 18,
     "metadata": {},
     "output_type": "execute_result"
    }
   ],
   "source": [
    "data_market_cap_2018.max()"
   ]
  },
  {
   "cell_type": "code",
   "execution_count": 19,
   "metadata": {},
   "outputs": [
    {
     "data": {
      "text/plain": [
       "4853888.285833333"
      ]
     },
     "execution_count": 19,
     "metadata": {},
     "output_type": "execute_result"
    }
   ],
   "source": [
    "# !!! Find a way how python says the highest value on its own !!!\n",
    "data_market_cap_2018['Fin'].mean()"
   ]
  },
  {
   "cell_type": "markdown",
   "metadata": {},
   "source": [
    "# Value-weighted Portfolio"
   ]
  },
  {
   "cell_type": "code",
   "execution_count": 20,
   "metadata": {},
   "outputs": [],
   "source": [
    "#Choose the lowest and highest portfolios\n",
    "columns=['Oil','Coal','Autos','Mines']"
   ]
  },
  {
   "cell_type": "code",
   "execution_count": 21,
   "metadata": {},
   "outputs": [],
   "source": [
    "data_return=data_return[columns]"
   ]
  },
  {
   "cell_type": "code",
   "execution_count": 22,
   "metadata": {},
   "outputs": [
    {
     "data": {
      "text/html": [
       "<div>\n",
       "<style scoped>\n",
       "    .dataframe tbody tr th:only-of-type {\n",
       "        vertical-align: middle;\n",
       "    }\n",
       "\n",
       "    .dataframe tbody tr th {\n",
       "        vertical-align: top;\n",
       "    }\n",
       "\n",
       "    .dataframe thead th {\n",
       "        text-align: right;\n",
       "    }\n",
       "</style>\n",
       "<table border=\"1\" class=\"dataframe\">\n",
       "  <thead>\n",
       "    <tr style=\"text-align: right;\">\n",
       "      <th></th>\n",
       "      <th>Oil</th>\n",
       "      <th>Coal</th>\n",
       "      <th>Autos</th>\n",
       "      <th>Mines</th>\n",
       "    </tr>\n",
       "  </thead>\n",
       "  <tbody>\n",
       "    <tr>\n",
       "      <td>1926-07</td>\n",
       "      <td>-0.0140</td>\n",
       "      <td>0.0154</td>\n",
       "      <td>0.1639</td>\n",
       "      <td>0.0564</td>\n",
       "    </tr>\n",
       "    <tr>\n",
       "      <td>1926-08</td>\n",
       "      <td>0.0369</td>\n",
       "      <td>0.0085</td>\n",
       "      <td>0.0423</td>\n",
       "      <td>0.0055</td>\n",
       "    </tr>\n",
       "    <tr>\n",
       "      <td>1926-09</td>\n",
       "      <td>-0.0369</td>\n",
       "      <td>0.0030</td>\n",
       "      <td>0.0483</td>\n",
       "      <td>0.0174</td>\n",
       "    </tr>\n",
       "    <tr>\n",
       "      <td>1926-10</td>\n",
       "      <td>-0.0104</td>\n",
       "      <td>0.0223</td>\n",
       "      <td>-0.0793</td>\n",
       "      <td>-0.0320</td>\n",
       "    </tr>\n",
       "    <tr>\n",
       "      <td>1926-11</td>\n",
       "      <td>0.0006</td>\n",
       "      <td>-0.0048</td>\n",
       "      <td>-0.0066</td>\n",
       "      <td>0.0846</td>\n",
       "    </tr>\n",
       "  </tbody>\n",
       "</table>\n",
       "</div>"
      ],
      "text/plain": [
       "            Oil    Coal   Autos   Mines\n",
       "1926-07 -0.0140  0.0154  0.1639  0.0564\n",
       "1926-08  0.0369  0.0085  0.0423  0.0055\n",
       "1926-09 -0.0369  0.0030  0.0483  0.0174\n",
       "1926-10 -0.0104  0.0223 -0.0793 -0.0320\n",
       "1926-11  0.0006 -0.0048 -0.0066  0.0846"
      ]
     },
     "execution_count": 22,
     "metadata": {},
     "output_type": "execute_result"
    }
   ],
   "source": [
    "#Oldest 5 returns\n",
    "data_return.head()"
   ]
  },
  {
   "cell_type": "code",
   "execution_count": 23,
   "metadata": {},
   "outputs": [],
   "source": [
    "data_market_cap=data_market_cap[columns]"
   ]
  },
  {
   "cell_type": "code",
   "execution_count": 24,
   "metadata": {},
   "outputs": [],
   "source": [
    "total_market_cap=data_market_cap.sum(axis='columns')"
   ]
  },
  {
   "cell_type": "code",
   "execution_count": 25,
   "metadata": {},
   "outputs": [
    {
     "data": {
      "text/plain": [
       "<matplotlib.axes._subplots.AxesSubplot at 0x11a9eb390>"
      ]
     },
     "execution_count": 25,
     "metadata": {},
     "output_type": "execute_result"
    },
    {
     "data": {
      "image/png": "[encoded data removed]",
      "text/plain": [
       "<Figure size 720x432 with 1 Axes>"
      ]
     },
     "metadata": {
      "needs_background": "light"
     },
     "output_type": "display_data"
    }
   ],
   "source": [
    "total_market_cap.plot(figsize=(10,6),title=\"Total Market Cap through time\",color=\"aqua\",grid=\"Axis Gridline\")"
   ]
  },
  {
   "cell_type": "code",
   "execution_count": 26,
   "metadata": {},
   "outputs": [],
   "source": [
    "cap_weight=data_market_cap.divide(total_market_cap,axis=\"rows\")"
   ]
  },
  {
   "cell_type": "code",
   "execution_count": 27,
   "metadata": {},
   "outputs": [
    {
     "data": {
      "text/html": [
       "<div>\n",
       "<style scoped>\n",
       "    .dataframe tbody tr th:only-of-type {\n",
       "        vertical-align: middle;\n",
       "    }\n",
       "\n",
       "    .dataframe tbody tr th {\n",
       "        vertical-align: top;\n",
       "    }\n",
       "\n",
       "    .dataframe thead th {\n",
       "        text-align: right;\n",
       "    }\n",
       "</style>\n",
       "<table border=\"1\" class=\"dataframe\">\n",
       "  <thead>\n",
       "    <tr style=\"text-align: right;\">\n",
       "      <th></th>\n",
       "      <th>Oil</th>\n",
       "      <th>Coal</th>\n",
       "      <th>Autos</th>\n",
       "      <th>Mines</th>\n",
       "    </tr>\n",
       "  </thead>\n",
       "  <tbody>\n",
       "    <tr>\n",
       "      <td>2019-08</td>\n",
       "      <td>0.754493</td>\n",
       "      <td>0.004840</td>\n",
       "      <td>0.167899</td>\n",
       "      <td>0.072767</td>\n",
       "    </tr>\n",
       "    <tr>\n",
       "      <td>2019-09</td>\n",
       "      <td>0.749696</td>\n",
       "      <td>0.004498</td>\n",
       "      <td>0.169022</td>\n",
       "      <td>0.076784</td>\n",
       "    </tr>\n",
       "    <tr>\n",
       "      <td>2019-10</td>\n",
       "      <td>0.747674</td>\n",
       "      <td>0.003973</td>\n",
       "      <td>0.171653</td>\n",
       "      <td>0.076701</td>\n",
       "    </tr>\n",
       "    <tr>\n",
       "      <td>2019-11</td>\n",
       "      <td>0.734936</td>\n",
       "      <td>0.003532</td>\n",
       "      <td>0.183967</td>\n",
       "      <td>0.077565</td>\n",
       "    </tr>\n",
       "    <tr>\n",
       "      <td>2019-12</td>\n",
       "      <td>0.729811</td>\n",
       "      <td>0.003150</td>\n",
       "      <td>0.187445</td>\n",
       "      <td>0.079594</td>\n",
       "    </tr>\n",
       "  </tbody>\n",
       "</table>\n",
       "</div>"
      ],
      "text/plain": [
       "              Oil      Coal     Autos     Mines\n",
       "2019-08  0.754493  0.004840  0.167899  0.072767\n",
       "2019-09  0.749696  0.004498  0.169022  0.076784\n",
       "2019-10  0.747674  0.003973  0.171653  0.076701\n",
       "2019-11  0.734936  0.003532  0.183967  0.077565\n",
       "2019-12  0.729811  0.003150  0.187445  0.079594"
      ]
     },
     "execution_count": 27,
     "metadata": {},
     "output_type": "execute_result"
    }
   ],
   "source": [
    "cap_weight.tail()"
   ]
  },
  {
   "cell_type": "code",
   "execution_count": 28,
   "metadata": {},
   "outputs": [
    {
     "data": {
      "text/plain": [
       "<matplotlib.axes._subplots.AxesSubplot at 0x11a219a50>"
      ]
     },
     "execution_count": 28,
     "metadata": {},
     "output_type": "execute_result"
    },
    {
     "data": {
      "image/png": "[encoded data removed]",
      "text/plain": [
       "<Figure size 720x576 with 1 Axes>"
      ]
     },
     "metadata": {
      "needs_background": "light"
     },
     "output_type": "display_data"
    }
   ],
   "source": [
    "cap_weight[columns].plot(figsize=(10,8),title=\"Weighting over time\",grid=\"Axis Gridline\")"
   ]
  },
  {
   "cell_type": "code",
   "execution_count": 29,
   "metadata": {},
   "outputs": [],
   "source": [
    "# Multiply the cap weight with return and sum it over the columns\n",
    "total_market_return=(cap_weight*data_return).sum(axis='columns')"
   ]
  },
  {
   "cell_type": "code",
   "execution_count": 30,
   "metadata": {},
   "outputs": [
    {
     "data": {
      "text/plain": [
       "<matplotlib.axes._subplots.AxesSubplot at 0x11a3e5f50>"
      ]
     },
     "execution_count": 30,
     "metadata": {},
     "output_type": "execute_result"
    },
    {
     "data": {
      "image/png": "[encoded data removed]",
      "text/plain": [
       "<Figure size 432x288 with 1 Axes>"
      ]
     },
     "metadata": {
      "needs_background": "light"
     },
     "output_type": "display_data"
    }
   ],
   "source": [
    "total_market_return.plot.line(title='Monthly portfolio returns over time',grid=\"Axis Gridline\")"
   ]
  },
  {
   "cell_type": "code",
   "execution_count": 31,
   "metadata": {},
   "outputs": [],
   "source": [
    "total_market_index=1*(1+total_market_return).cumprod()"
   ]
  },
  {
   "cell_type": "code",
   "execution_count": 32,
   "metadata": {},
   "outputs": [
    {
     "data": {
      "text/plain": [
       "<matplotlib.axes._subplots.AxesSubplot at 0x117fc9650>"
      ]
     },
     "execution_count": 32,
     "metadata": {},
     "output_type": "execute_result"
    },
    {
     "data": {
      "image/png": "[encoded data removed]",
      "text/plain": [
       "<Figure size 720x360 with 1 Axes>"
      ]
     },
     "metadata": {
      "needs_background": "light"
     },
     "output_type": "display_data"
    }
   ],
   "source": [
    "total_market_index.plot(figsize=(10,5),title=\"Total Market Index\",fontsize=12,color=\"pink\",grid=\"Axis Gridline\")"
   ]
  },
  {
   "cell_type": "code",
   "execution_count": 33,
   "metadata": {},
   "outputs": [],
   "source": [
    "sharpe_ratio=(total_market_return.mean()-risk_free_rate)/total_market_return.std()"
   ]
  },
  {
   "cell_type": "code",
   "execution_count": 34,
   "metadata": {},
   "outputs": [
    {
     "data": {
      "text/plain": [
       "0.13108005663541586"
      ]
     },
     "execution_count": 34,
     "metadata": {},
     "output_type": "execute_result"
    }
   ],
   "source": [
    "sharpe_ratio"
   ]
  },
  {
   "cell_type": "code",
   "execution_count": null,
   "metadata": {},
   "outputs": [],
   "source": []
  },
  {
   "cell_type": "code",
   "execution_count": null,
   "metadata": {},
   "outputs": [],
   "source": []
  }
 ],
 "metadata": {
  "kernelspec": {
   "display_name": "Python 3",
   "language": "python",
   "name": "python3"
  },
  "language_info": {
   "codemirror_mode": {
    "name": "ipython",
    "version": 3
   },
   "file_extension": ".py",
   "mimetype": "text/x-python",
   "name": "python",
   "nbconvert_exporter": "python",
   "pygments_lexer": "ipython3",
   "version": "3.7.6"
  }
 },
 "nbformat": 4,
 "nbformat_minor": 2
}
