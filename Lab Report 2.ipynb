{
 "cells": [
  {
   "cell_type": "markdown",
   "metadata": {},
   "source": [
    "# Lab Report 2\n",
    "## Group 3\n",
    "## Caroline Kuntz 940915-1462\n",
    "## Niklas Landsberg 940421-T857"
   ]
  },
  {
   "cell_type": "code",
   "execution_count": 1,
   "metadata": {},
   "outputs": [],
   "source": [
    "import pandas as pd\n",
    "import numpy as np\n",
    "from scipy.optimize import minimize"
   ]
  },
  {
   "cell_type": "code",
   "execution_count": 2,
   "metadata": {},
   "outputs": [],
   "source": [
    "#Assumptions\n",
    "risk_free_rate=0.001"
   ]
  },
  {
   "cell_type": "code",
   "execution_count": 3,
   "metadata": {},
   "outputs": [],
   "source": [
    "#Functions used for Global Minimum Variance portfolio\n",
    "\n",
    "#1. Define portfolio return\n",
    "def portfolio_return(weights,returns):\n",
    "    return weights.T @ returns\n",
    "\n",
    "#2. Define portfolio variance\n",
    "def portfolio_risk(weights, cov_matrix):\n",
    "    return(weights.T @ cov_matrix @ weights)**0.5\n",
    "\n",
    "\n",
    "#3. Define minimimum risk\n",
    "def minimize_risk(target_return, Expected_Return, cov):\n",
    "\n",
    "    n= Expected_Return.shape[0]\n",
    "\n",
    "    initial_guess=np.repeat(1/n,n)\n",
    "    \n",
    "    bounds=((0,1),)*n\n",
    "    \n",
    "    #Constraints\n",
    "    return_is_target={\n",
    "        'type':'eq',\n",
    "        'args':(Expected_Return,),\n",
    "        'fun':lambda weights, Expected_Return: target_return-portfolio_return(weights, Expected_Return)\n",
    "    }\n",
    "    \n",
    "    weights_sum_to_1={\n",
    "        'type':'eq',\n",
    "        'fun':lambda weights:np.sum(weights)-1\n",
    "    }\n",
    "    \n",
    "    results=minimize(portfolio_risk,\n",
    "                     initial_guess,\n",
    "                     args=(cov,),\n",
    "                     method=\"SLSQP\", \n",
    "                     constraints=(return_is_target,weights_sum_to_1),\n",
    "                     bounds=bounds\n",
    "                    )\n",
    "    return results.x\n",
    "\n",
    "#4. Define Maximum Sharpe Ratio\n",
    "def maximum_sharpe_ratio(risk_free_rate, Expected_Return, cov):\n",
    "    \n",
    "    n=Expected_Return.shape[0]\n",
    "    \n",
    "    initial_guess=np.repeat(1/n,n)\n",
    "    \n",
    "    bounds=((0,1),)*n\n",
    "    \n",
    "    weights_sum_to_1={\n",
    "        'type':'eq',\n",
    "        'fun':lambda weights:np.sum(weights)-1\n",
    "    }\n",
    "    \n",
    "    def neg_sharpe_ratio(weights, risk_free_rate, Expected_Return,cov):\n",
    "        \n",
    "        sharpe_ratio=(portfolio_return(weights, Expected_Return)-risk_free_rate)/portfolio_risk(weights, cov)\n",
    "        return -1*sharpe_ratio\n",
    "    \n",
    "    results=minimize(neg_sharpe_ratio,\n",
    "                     initial_guess,\n",
    "                     args=(risk_free_rate, Expected_Return, cov,),\n",
    "                     method=\"SLSQP\",constraints=(weights_sum_to_1), \n",
    "                     bounds=bounds\n",
    "                    )\n",
    "    return results.x\n",
    "\n",
    "#5. Draw the efficient frontier\n",
    "\n",
    "def optimal_weights(n_points, Expected_Return,cov):\n",
    "    \n",
    "    target_returns=np.linspace(Expected_Return.min(), \n",
    "                               Expected_Return.max(), \n",
    "                               n_points\n",
    "                              )\n",
    "    \n",
    "    weights=[minimize_risk(target_return, Expected_Return, cov) for target_return in target_returns]\n",
    "    return weights\n",
    "\n",
    "def plot_efficient_frontier(n_points,Expected_Return,cov):\n",
    "    \n",
    "    weights= optimal_weights(n_points, Expected_Return,cov)\n",
    "    \n",
    "    Returns=[portfolio_return(w,Expected_Return) for w in weights]\n",
    "    \n",
    "    Risk=[portfolio_risk(w,cov) for w in weights]\n",
    "    \n",
    "    efficient_frontier=pd.DataFrame({\"Return\":Returns, \"Risk\":Risk})\n",
    "    return efficient_frontier.plot.scatter(x=\"Risk\",y=\"Return\")\n",
    "\n",
    "#6. Minimum Global Variance Portfolio\n",
    "\n",
    "def gmv(cov):\n",
    "    n=cov.shape[0]\n",
    "    \n",
    "    return maximum_sharpe_ratio(0, np.repeat(1,n), cov)"
   ]
  },
  {
   "cell_type": "markdown",
   "metadata": {},
   "source": [
    "### 1 – Read the 30 industry portfolios from the Kenneth French Website"
   ]
  },
  {
   "cell_type": "code",
   "execution_count": 4,
   "metadata": {},
   "outputs": [
    {
     "data": {
      "text/html": [
       "<div>\n",
       "<style scoped>\n",
       "    .dataframe tbody tr th:only-of-type {\n",
       "        vertical-align: middle;\n",
       "    }\n",
       "\n",
       "    .dataframe tbody tr th {\n",
       "        vertical-align: top;\n",
       "    }\n",
       "\n",
       "    .dataframe thead th {\n",
       "        text-align: right;\n",
       "    }\n",
       "</style>\n",
       "<table border=\"1\" class=\"dataframe\">\n",
       "  <thead>\n",
       "    <tr style=\"text-align: right;\">\n",
       "      <th></th>\n",
       "      <th>Food</th>\n",
       "      <th>Beer</th>\n",
       "      <th>Smoke</th>\n",
       "      <th>Games</th>\n",
       "      <th>Books</th>\n",
       "      <th>Hshld</th>\n",
       "      <th>Clths</th>\n",
       "      <th>Hlth</th>\n",
       "      <th>Chems</th>\n",
       "      <th>Txtls</th>\n",
       "      <th>...</th>\n",
       "      <th>Telcm</th>\n",
       "      <th>Servs</th>\n",
       "      <th>BusEq</th>\n",
       "      <th>Paper</th>\n",
       "      <th>Trans</th>\n",
       "      <th>Whlsl</th>\n",
       "      <th>Rtail</th>\n",
       "      <th>Meals</th>\n",
       "      <th>Fin</th>\n",
       "      <th>Other</th>\n",
       "    </tr>\n",
       "  </thead>\n",
       "  <tbody>\n",
       "    <tr>\n",
       "      <td>2019-08</td>\n",
       "      <td>0.0108</td>\n",
       "      <td>0.0619</td>\n",
       "      <td>-0.1104</td>\n",
       "      <td>-0.0588</td>\n",
       "      <td>-0.0459</td>\n",
       "      <td>0.0158</td>\n",
       "      <td>-0.0498</td>\n",
       "      <td>-0.0045</td>\n",
       "      <td>-0.0566</td>\n",
       "      <td>-0.0547</td>\n",
       "      <td>...</td>\n",
       "      <td>0.0043</td>\n",
       "      <td>-0.0213</td>\n",
       "      <td>-0.0359</td>\n",
       "      <td>-0.0296</td>\n",
       "      <td>-0.0687</td>\n",
       "      <td>-0.0234</td>\n",
       "      <td>-0.0012</td>\n",
       "      <td>0.0134</td>\n",
       "      <td>-0.0469</td>\n",
       "      <td>-0.0213</td>\n",
       "    </tr>\n",
       "    <tr>\n",
       "      <td>2019-09</td>\n",
       "      <td>0.0050</td>\n",
       "      <td>0.0162</td>\n",
       "      <td>0.0195</td>\n",
       "      <td>-0.0467</td>\n",
       "      <td>0.0139</td>\n",
       "      <td>0.0175</td>\n",
       "      <td>0.0914</td>\n",
       "      <td>-0.0054</td>\n",
       "      <td>0.0560</td>\n",
       "      <td>0.0741</td>\n",
       "      <td>...</td>\n",
       "      <td>0.0130</td>\n",
       "      <td>-0.0106</td>\n",
       "      <td>0.0436</td>\n",
       "      <td>0.0174</td>\n",
       "      <td>0.0054</td>\n",
       "      <td>0.0536</td>\n",
       "      <td>0.0096</td>\n",
       "      <td>-0.0249</td>\n",
       "      <td>0.0258</td>\n",
       "      <td>0.0219</td>\n",
       "    </tr>\n",
       "    <tr>\n",
       "      <td>2019-10</td>\n",
       "      <td>-0.0166</td>\n",
       "      <td>-0.0104</td>\n",
       "      <td>0.0810</td>\n",
       "      <td>0.0584</td>\n",
       "      <td>0.0135</td>\n",
       "      <td>-0.0072</td>\n",
       "      <td>-0.0218</td>\n",
       "      <td>0.0447</td>\n",
       "      <td>-0.0095</td>\n",
       "      <td>0.1062</td>\n",
       "      <td>...</td>\n",
       "      <td>0.0223</td>\n",
       "      <td>0.0188</td>\n",
       "      <td>0.0537</td>\n",
       "      <td>0.0000</td>\n",
       "      <td>0.0137</td>\n",
       "      <td>0.0245</td>\n",
       "      <td>0.0165</td>\n",
       "      <td>-0.0427</td>\n",
       "      <td>0.0329</td>\n",
       "      <td>0.0189</td>\n",
       "    </tr>\n",
       "    <tr>\n",
       "      <td>2019-11</td>\n",
       "      <td>0.0199</td>\n",
       "      <td>-0.0059</td>\n",
       "      <td>0.0552</td>\n",
       "      <td>0.0615</td>\n",
       "      <td>-0.0099</td>\n",
       "      <td>-0.0128</td>\n",
       "      <td>0.0467</td>\n",
       "      <td>0.0530</td>\n",
       "      <td>0.0382</td>\n",
       "      <td>-0.0224</td>\n",
       "      <td>...</td>\n",
       "      <td>0.0175</td>\n",
       "      <td>0.0503</td>\n",
       "      <td>0.0478</td>\n",
       "      <td>0.0312</td>\n",
       "      <td>0.0275</td>\n",
       "      <td>0.0441</td>\n",
       "      <td>0.0206</td>\n",
       "      <td>0.0282</td>\n",
       "      <td>0.0568</td>\n",
       "      <td>0.0424</td>\n",
       "    </tr>\n",
       "    <tr>\n",
       "      <td>2019-12</td>\n",
       "      <td>0.0358</td>\n",
       "      <td>0.0138</td>\n",
       "      <td>0.0322</td>\n",
       "      <td>0.0397</td>\n",
       "      <td>0.0323</td>\n",
       "      <td>0.0263</td>\n",
       "      <td>0.0768</td>\n",
       "      <td>0.0333</td>\n",
       "      <td>0.0135</td>\n",
       "      <td>-0.0342</td>\n",
       "      <td>...</td>\n",
       "      <td>0.0124</td>\n",
       "      <td>0.0179</td>\n",
       "      <td>0.0624</td>\n",
       "      <td>0.0217</td>\n",
       "      <td>-0.0024</td>\n",
       "      <td>0.0239</td>\n",
       "      <td>0.0121</td>\n",
       "      <td>0.0259</td>\n",
       "      <td>0.0259</td>\n",
       "      <td>0.0205</td>\n",
       "    </tr>\n",
       "  </tbody>\n",
       "</table>\n",
       "<p>5 rows × 30 columns</p>\n",
       "</div>"
      ],
      "text/plain": [
       "           Food    Beer   Smoke   Games   Books   Hshld   Clths    Hlth  \\\n",
       "2019-08  0.0108  0.0619 -0.1104 -0.0588 -0.0459  0.0158 -0.0498 -0.0045   \n",
       "2019-09  0.0050  0.0162  0.0195 -0.0467  0.0139  0.0175  0.0914 -0.0054   \n",
       "2019-10 -0.0166 -0.0104  0.0810  0.0584  0.0135 -0.0072 -0.0218  0.0447   \n",
       "2019-11  0.0199 -0.0059  0.0552  0.0615 -0.0099 -0.0128  0.0467  0.0530   \n",
       "2019-12  0.0358  0.0138  0.0322  0.0397  0.0323  0.0263  0.0768  0.0333   \n",
       "\n",
       "          Chems   Txtls  ...   Telcm   Servs   BusEq   Paper   Trans   Whlsl  \\\n",
       "2019-08 -0.0566 -0.0547  ...  0.0043 -0.0213 -0.0359 -0.0296 -0.0687 -0.0234   \n",
       "2019-09  0.0560  0.0741  ...  0.0130 -0.0106  0.0436  0.0174  0.0054  0.0536   \n",
       "2019-10 -0.0095  0.1062  ...  0.0223  0.0188  0.0537  0.0000  0.0137  0.0245   \n",
       "2019-11  0.0382 -0.0224  ...  0.0175  0.0503  0.0478  0.0312  0.0275  0.0441   \n",
       "2019-12  0.0135 -0.0342  ...  0.0124  0.0179  0.0624  0.0217 -0.0024  0.0239   \n",
       "\n",
       "          Rtail   Meals     Fin   Other  \n",
       "2019-08 -0.0012  0.0134 -0.0469 -0.0213  \n",
       "2019-09  0.0096 -0.0249  0.0258  0.0219  \n",
       "2019-10  0.0165 -0.0427  0.0329  0.0189  \n",
       "2019-11  0.0206  0.0282  0.0568  0.0424  \n",
       "2019-12  0.0121  0.0259  0.0259  0.0205  \n",
       "\n",
       "[5 rows x 30 columns]"
      ]
     },
     "execution_count": 4,
     "metadata": {},
     "output_type": "execute_result"
    }
   ],
   "source": [
    "#### Clean the data\n",
    "data_return= pd.read_csv('industry_portfolios_30.csv',index_col=0)\n",
    "\n",
    "data_return= data_return.replace(\" \",\"\")\n",
    "\n",
    "data_return.dropna()\n",
    "\n",
    "data_return.index=pd.to_datetime(data_return.index, format=\"%Y%m\")\n",
    "\n",
    "data_return.index=data_return.index.to_period('M')\n",
    "\n",
    "data_return.columns=data_return.columns.str.strip()\n",
    "\n",
    "data_return=data_return/100\n",
    "\n",
    "data_return.tail()"
   ]
  },
  {
   "cell_type": "markdown",
   "metadata": {},
   "source": [
    "### 2- Select your opportunity set (simply choose a subset of assets that you are interested to invest in) "
   ]
  },
  {
   "cell_type": "code",
   "execution_count": 5,
   "metadata": {},
   "outputs": [],
   "source": [
    "Assets=['Chems','Rtail','Servs','Telcm']"
   ]
  },
  {
   "cell_type": "code",
   "execution_count": 6,
   "metadata": {},
   "outputs": [],
   "source": [
    "data_return_period_1=data_return[Assets]"
   ]
  },
  {
   "cell_type": "code",
   "execution_count": 7,
   "metadata": {},
   "outputs": [
    {
     "data": {
      "text/html": [
       "<div>\n",
       "<style scoped>\n",
       "    .dataframe tbody tr th:only-of-type {\n",
       "        vertical-align: middle;\n",
       "    }\n",
       "\n",
       "    .dataframe tbody tr th {\n",
       "        vertical-align: top;\n",
       "    }\n",
       "\n",
       "    .dataframe thead th {\n",
       "        text-align: right;\n",
       "    }\n",
       "</style>\n",
       "<table border=\"1\" class=\"dataframe\">\n",
       "  <thead>\n",
       "    <tr style=\"text-align: right;\">\n",
       "      <th></th>\n",
       "      <th>Chems</th>\n",
       "      <th>Rtail</th>\n",
       "      <th>Servs</th>\n",
       "      <th>Telcm</th>\n",
       "    </tr>\n",
       "  </thead>\n",
       "  <tbody>\n",
       "    <tr>\n",
       "      <td>2019-08</td>\n",
       "      <td>-0.0566</td>\n",
       "      <td>-0.0012</td>\n",
       "      <td>-0.0213</td>\n",
       "      <td>0.0043</td>\n",
       "    </tr>\n",
       "    <tr>\n",
       "      <td>2019-09</td>\n",
       "      <td>0.0560</td>\n",
       "      <td>0.0096</td>\n",
       "      <td>-0.0106</td>\n",
       "      <td>0.0130</td>\n",
       "    </tr>\n",
       "    <tr>\n",
       "      <td>2019-10</td>\n",
       "      <td>-0.0095</td>\n",
       "      <td>0.0165</td>\n",
       "      <td>0.0188</td>\n",
       "      <td>0.0223</td>\n",
       "    </tr>\n",
       "    <tr>\n",
       "      <td>2019-11</td>\n",
       "      <td>0.0382</td>\n",
       "      <td>0.0206</td>\n",
       "      <td>0.0503</td>\n",
       "      <td>0.0175</td>\n",
       "    </tr>\n",
       "    <tr>\n",
       "      <td>2019-12</td>\n",
       "      <td>0.0135</td>\n",
       "      <td>0.0121</td>\n",
       "      <td>0.0179</td>\n",
       "      <td>0.0124</td>\n",
       "    </tr>\n",
       "  </tbody>\n",
       "</table>\n",
       "</div>"
      ],
      "text/plain": [
       "          Chems   Rtail   Servs   Telcm\n",
       "2019-08 -0.0566 -0.0012 -0.0213  0.0043\n",
       "2019-09  0.0560  0.0096 -0.0106  0.0130\n",
       "2019-10 -0.0095  0.0165  0.0188  0.0223\n",
       "2019-11  0.0382  0.0206  0.0503  0.0175\n",
       "2019-12  0.0135  0.0121  0.0179  0.0124"
      ]
     },
     "execution_count": 7,
     "metadata": {},
     "output_type": "execute_result"
    }
   ],
   "source": [
    "data_return_period_1.tail()"
   ]
  },
  {
   "cell_type": "markdown",
   "metadata": {},
   "source": [
    "### 4- Estimate the Expected Returns and Covariance Matrix for these set of assets using the data from Jan 2000 to Dec 2010. "
   ]
  },
  {
   "cell_type": "code",
   "execution_count": 8,
   "metadata": {},
   "outputs": [],
   "source": [
    "data_return_period_1=data_return[Assets].loc['2000-01':'2010-12']"
   ]
  },
  {
   "cell_type": "code",
   "execution_count": 9,
   "metadata": {},
   "outputs": [
    {
     "data": {
      "text/html": [
       "<div>\n",
       "<style scoped>\n",
       "    .dataframe tbody tr th:only-of-type {\n",
       "        vertical-align: middle;\n",
       "    }\n",
       "\n",
       "    .dataframe tbody tr th {\n",
       "        vertical-align: top;\n",
       "    }\n",
       "\n",
       "    .dataframe thead th {\n",
       "        text-align: right;\n",
       "    }\n",
       "</style>\n",
       "<table border=\"1\" class=\"dataframe\">\n",
       "  <thead>\n",
       "    <tr style=\"text-align: right;\">\n",
       "      <th></th>\n",
       "      <th>Chems</th>\n",
       "      <th>Rtail</th>\n",
       "      <th>Servs</th>\n",
       "      <th>Telcm</th>\n",
       "    </tr>\n",
       "  </thead>\n",
       "  <tbody>\n",
       "    <tr>\n",
       "      <td>2010-08</td>\n",
       "      <td>-0.0011</td>\n",
       "      <td>-0.0418</td>\n",
       "      <td>-0.0526</td>\n",
       "      <td>-0.0223</td>\n",
       "    </tr>\n",
       "    <tr>\n",
       "      <td>2010-09</td>\n",
       "      <td>0.0997</td>\n",
       "      <td>0.1359</td>\n",
       "      <td>0.1162</td>\n",
       "      <td>0.0786</td>\n",
       "    </tr>\n",
       "    <tr>\n",
       "      <td>2010-10</td>\n",
       "      <td>0.0818</td>\n",
       "      <td>0.0132</td>\n",
       "      <td>0.0801</td>\n",
       "      <td>0.0481</td>\n",
       "    </tr>\n",
       "    <tr>\n",
       "      <td>2010-11</td>\n",
       "      <td>0.0084</td>\n",
       "      <td>0.0495</td>\n",
       "      <td>-0.0243</td>\n",
       "      <td>-0.0186</td>\n",
       "    </tr>\n",
       "    <tr>\n",
       "      <td>2010-12</td>\n",
       "      <td>0.0749</td>\n",
       "      <td>0.0350</td>\n",
       "      <td>0.0714</td>\n",
       "      <td>0.0671</td>\n",
       "    </tr>\n",
       "  </tbody>\n",
       "</table>\n",
       "</div>"
      ],
      "text/plain": [
       "          Chems   Rtail   Servs   Telcm\n",
       "2010-08 -0.0011 -0.0418 -0.0526 -0.0223\n",
       "2010-09  0.0997  0.1359  0.1162  0.0786\n",
       "2010-10  0.0818  0.0132  0.0801  0.0481\n",
       "2010-11  0.0084  0.0495 -0.0243 -0.0186\n",
       "2010-12  0.0749  0.0350  0.0714  0.0671"
      ]
     },
     "execution_count": 9,
     "metadata": {},
     "output_type": "execute_result"
    }
   ],
   "source": [
    "data_return_period_1.tail()"
   ]
  },
  {
   "cell_type": "code",
   "execution_count": 10,
   "metadata": {},
   "outputs": [
    {
     "data": {
      "text/plain": [
       "Chems    0.008413\n",
       "Rtail    0.003420\n",
       "Servs   -0.000390\n",
       "Telcm   -0.002809\n",
       "dtype: float64"
      ]
     },
     "execution_count": 10,
     "metadata": {},
     "output_type": "execute_result"
    }
   ],
   "source": [
    "Expected_Return_Period_1=data_return_period_1.mean()\n",
    "\n",
    "Expected_Return_Period_1"
   ]
  },
  {
   "cell_type": "code",
   "execution_count": 11,
   "metadata": {},
   "outputs": [
    {
     "data": {
      "text/html": [
       "<div>\n",
       "<style scoped>\n",
       "    .dataframe tbody tr th:only-of-type {\n",
       "        vertical-align: middle;\n",
       "    }\n",
       "\n",
       "    .dataframe tbody tr th {\n",
       "        vertical-align: top;\n",
       "    }\n",
       "\n",
       "    .dataframe thead th {\n",
       "        text-align: right;\n",
       "    }\n",
       "</style>\n",
       "<table border=\"1\" class=\"dataframe\">\n",
       "  <thead>\n",
       "    <tr style=\"text-align: right;\">\n",
       "      <th></th>\n",
       "      <th>Chems</th>\n",
       "      <th>Rtail</th>\n",
       "      <th>Servs</th>\n",
       "      <th>Telcm</th>\n",
       "    </tr>\n",
       "  </thead>\n",
       "  <tbody>\n",
       "    <tr>\n",
       "      <td>Chems</td>\n",
       "      <td>0.004168</td>\n",
       "      <td>0.002382</td>\n",
       "      <td>0.002785</td>\n",
       "      <td>0.002480</td>\n",
       "    </tr>\n",
       "    <tr>\n",
       "      <td>Rtail</td>\n",
       "      <td>0.002382</td>\n",
       "      <td>0.002845</td>\n",
       "      <td>0.002476</td>\n",
       "      <td>0.002166</td>\n",
       "    </tr>\n",
       "    <tr>\n",
       "      <td>Servs</td>\n",
       "      <td>0.002785</td>\n",
       "      <td>0.002476</td>\n",
       "      <td>0.005338</td>\n",
       "      <td>0.003504</td>\n",
       "    </tr>\n",
       "    <tr>\n",
       "      <td>Telcm</td>\n",
       "      <td>0.002480</td>\n",
       "      <td>0.002166</td>\n",
       "      <td>0.003504</td>\n",
       "      <td>0.003702</td>\n",
       "    </tr>\n",
       "  </tbody>\n",
       "</table>\n",
       "</div>"
      ],
      "text/plain": [
       "          Chems     Rtail     Servs     Telcm\n",
       "Chems  0.004168  0.002382  0.002785  0.002480\n",
       "Rtail  0.002382  0.002845  0.002476  0.002166\n",
       "Servs  0.002785  0.002476  0.005338  0.003504\n",
       "Telcm  0.002480  0.002166  0.003504  0.003702"
      ]
     },
     "execution_count": 11,
     "metadata": {},
     "output_type": "execute_result"
    }
   ],
   "source": [
    "cov_period_1=data_return_period_1.cov()\n",
    "\n",
    "cov_period_1"
   ]
  },
  {
   "cell_type": "markdown",
   "metadata": {},
   "source": [
    "### 5. Find the Minimum-Variance Portfolio using the data from Jan 2000 to Dec 2010."
   ]
  },
  {
   "cell_type": "code",
   "execution_count": 29,
   "metadata": {},
   "outputs": [
    {
     "data": {
      "text/plain": [
       "[<matplotlib.lines.Line2D at 0x102618c090>]"
      ]
     },
     "execution_count": 29,
     "metadata": {},
     "output_type": "execute_result"
    },
    {
     "data": {
      "image/png": "[encoded data removed]",
      "text/plain": [
       "<Figure size 432x288 with 1 Axes>"
      ]
     },
     "metadata": {
      "needs_background": "light"
     },
     "output_type": "display_data"
    }
   ],
   "source": [
    "ax=plot_efficient_frontier(50,Expected_Return_Period_1.values,cov_period_1)\n",
    "ax.set_xlim(left=0)\n",
    "\n",
    "                                \n",
    "weight_gmv=gmv(cov_period_1)\n",
    "Return_gmv_period_1=portfolio_return(weight_gmv,Expected_Return_Period_1.values)\n",
    "Risk_gmv_period_1=portfolio_risk(weight_gmv,cov_period_1)\n",
    "                                \n",
    "ax.plot([Risk_gmv_period_1],\n",
    "        [Return_gmv_period_1],\n",
    "        color=\"yellow\",\n",
    "        marker=\"o\",linestyle=\"dashed\",\n",
    "       )"
   ]
  },
  {
   "cell_type": "code",
   "execution_count": 13,
   "metadata": {},
   "outputs": [
    {
     "name": "stdout",
     "output_type": "stream",
     "text": [
      "The portfolio's weights are [0.11388332 0.61941995 0.         0.26669673]\n"
     ]
    }
   ],
   "source": [
    "print(f'The portfolio\\'s weights are {weight_gmv}')"
   ]
  },
  {
   "cell_type": "markdown",
   "metadata": {},
   "source": [
    "### 6. What is the Minimum-Variance Portfolio Return and Variance using the estimated values from Jan 2000 to Dec 2010. "
   ]
  },
  {
   "cell_type": "code",
   "execution_count": 14,
   "metadata": {},
   "outputs": [
    {
     "name": "stdout",
     "output_type": "stream",
     "text": [
      "The portfolio's return in the first period is 0.0023276089981688402\n"
     ]
    }
   ],
   "source": [
    "print(f'The portfolio\\'s return in the first period is {Return_gmv_period_1}')"
   ]
  },
  {
   "cell_type": "code",
   "execution_count": 15,
   "metadata": {},
   "outputs": [
    {
     "name": "stdout",
     "output_type": "stream",
     "text": [
      "The portfolio's volatility in the first period is 0.05110085732720375\n"
     ]
    }
   ],
   "source": [
    "print(f'The portfolio\\'s volatility in the first period is {Risk_gmv_period_1}')"
   ]
  },
  {
   "cell_type": "markdown",
   "metadata": {},
   "source": [
    "### 7. Next, let’s invest out-of-sample: Invest based on the estimated portfolio weights of Minimum-Variance Portfolio from Jan 2011 to Dec 2018. What is the Portfolio Return, Variance and Sharpe Ratio.\n",
    " "
   ]
  },
  {
   "cell_type": "code",
   "execution_count": 16,
   "metadata": {},
   "outputs": [
    {
     "data": {
      "text/html": [
       "<div>\n",
       "<style scoped>\n",
       "    .dataframe tbody tr th:only-of-type {\n",
       "        vertical-align: middle;\n",
       "    }\n",
       "\n",
       "    .dataframe tbody tr th {\n",
       "        vertical-align: top;\n",
       "    }\n",
       "\n",
       "    .dataframe thead th {\n",
       "        text-align: right;\n",
       "    }\n",
       "</style>\n",
       "<table border=\"1\" class=\"dataframe\">\n",
       "  <thead>\n",
       "    <tr style=\"text-align: right;\">\n",
       "      <th></th>\n",
       "      <th>Chems</th>\n",
       "      <th>Rtail</th>\n",
       "      <th>Servs</th>\n",
       "      <th>Telcm</th>\n",
       "    </tr>\n",
       "  </thead>\n",
       "  <tbody>\n",
       "    <tr>\n",
       "      <td>2011-01</td>\n",
       "      <td>0.0160</td>\n",
       "      <td>-0.0128</td>\n",
       "      <td>0.0248</td>\n",
       "      <td>0.0005</td>\n",
       "    </tr>\n",
       "    <tr>\n",
       "      <td>2011-02</td>\n",
       "      <td>0.0492</td>\n",
       "      <td>0.0138</td>\n",
       "      <td>0.0247</td>\n",
       "      <td>0.0759</td>\n",
       "    </tr>\n",
       "    <tr>\n",
       "      <td>2011-03</td>\n",
       "      <td>0.0201</td>\n",
       "      <td>0.0048</td>\n",
       "      <td>0.0007</td>\n",
       "      <td>0.0177</td>\n",
       "    </tr>\n",
       "    <tr>\n",
       "      <td>2011-04</td>\n",
       "      <td>0.0448</td>\n",
       "      <td>0.0520</td>\n",
       "      <td>0.0264</td>\n",
       "      <td>0.0341</td>\n",
       "    </tr>\n",
       "    <tr>\n",
       "      <td>2011-05</td>\n",
       "      <td>-0.0376</td>\n",
       "      <td>0.0021</td>\n",
       "      <td>-0.0228</td>\n",
       "      <td>0.0077</td>\n",
       "    </tr>\n",
       "    <tr>\n",
       "      <td>...</td>\n",
       "      <td>...</td>\n",
       "      <td>...</td>\n",
       "      <td>...</td>\n",
       "      <td>...</td>\n",
       "    </tr>\n",
       "    <tr>\n",
       "      <td>2018-08</td>\n",
       "      <td>0.0001</td>\n",
       "      <td>0.0916</td>\n",
       "      <td>0.0529</td>\n",
       "      <td>0.0294</td>\n",
       "    </tr>\n",
       "    <tr>\n",
       "      <td>2018-09</td>\n",
       "      <td>-0.0287</td>\n",
       "      <td>0.0061</td>\n",
       "      <td>-0.0043</td>\n",
       "      <td>0.0175</td>\n",
       "    </tr>\n",
       "    <tr>\n",
       "      <td>2018-10</td>\n",
       "      <td>-0.1250</td>\n",
       "      <td>-0.1026</td>\n",
       "      <td>-0.0923</td>\n",
       "      <td>-0.0053</td>\n",
       "    </tr>\n",
       "    <tr>\n",
       "      <td>2018-11</td>\n",
       "      <td>0.0496</td>\n",
       "      <td>0.0159</td>\n",
       "      <td>0.0128</td>\n",
       "      <td>0.0253</td>\n",
       "    </tr>\n",
       "    <tr>\n",
       "      <td>2018-12</td>\n",
       "      <td>-0.0776</td>\n",
       "      <td>-0.0920</td>\n",
       "      <td>-0.0766</td>\n",
       "      <td>-0.0886</td>\n",
       "    </tr>\n",
       "  </tbody>\n",
       "</table>\n",
       "<p>96 rows × 4 columns</p>\n",
       "</div>"
      ],
      "text/plain": [
       "          Chems   Rtail   Servs   Telcm\n",
       "2011-01  0.0160 -0.0128  0.0248  0.0005\n",
       "2011-02  0.0492  0.0138  0.0247  0.0759\n",
       "2011-03  0.0201  0.0048  0.0007  0.0177\n",
       "2011-04  0.0448  0.0520  0.0264  0.0341\n",
       "2011-05 -0.0376  0.0021 -0.0228  0.0077\n",
       "...         ...     ...     ...     ...\n",
       "2018-08  0.0001  0.0916  0.0529  0.0294\n",
       "2018-09 -0.0287  0.0061 -0.0043  0.0175\n",
       "2018-10 -0.1250 -0.1026 -0.0923 -0.0053\n",
       "2018-11  0.0496  0.0159  0.0128  0.0253\n",
       "2018-12 -0.0776 -0.0920 -0.0766 -0.0886\n",
       "\n",
       "[96 rows x 4 columns]"
      ]
     },
     "execution_count": 16,
     "metadata": {},
     "output_type": "execute_result"
    }
   ],
   "source": [
    "data_return_period_2=data_return[Assets].loc['2011-01':'2018-12']\n",
    "\n",
    "data_return_period_2"
   ]
  },
  {
   "cell_type": "code",
   "execution_count": 17,
   "metadata": {},
   "outputs": [
    {
     "data": {
      "text/plain": [
       "Chems    0.008747\n",
       "Rtail    0.012344\n",
       "Servs    0.012007\n",
       "Telcm    0.009407\n",
       "dtype: float64"
      ]
     },
     "execution_count": 17,
     "metadata": {},
     "output_type": "execute_result"
    }
   ],
   "source": [
    "Expected_Return_Period_2=data_return_period_2.mean()\n",
    "\n",
    "Expected_Return_Period_2"
   ]
  },
  {
   "cell_type": "code",
   "execution_count": 18,
   "metadata": {},
   "outputs": [
    {
     "data": {
      "text/html": [
       "<div>\n",
       "<style scoped>\n",
       "    .dataframe tbody tr th:only-of-type {\n",
       "        vertical-align: middle;\n",
       "    }\n",
       "\n",
       "    .dataframe tbody tr th {\n",
       "        vertical-align: top;\n",
       "    }\n",
       "\n",
       "    .dataframe thead th {\n",
       "        text-align: right;\n",
       "    }\n",
       "</style>\n",
       "<table border=\"1\" class=\"dataframe\">\n",
       "  <thead>\n",
       "    <tr style=\"text-align: right;\">\n",
       "      <th></th>\n",
       "      <th>Chems</th>\n",
       "      <th>Rtail</th>\n",
       "      <th>Servs</th>\n",
       "      <th>Telcm</th>\n",
       "    </tr>\n",
       "  </thead>\n",
       "  <tbody>\n",
       "    <tr>\n",
       "      <td>Chems</td>\n",
       "      <td>0.002696</td>\n",
       "      <td>0.001226</td>\n",
       "      <td>0.001561</td>\n",
       "      <td>0.001161</td>\n",
       "    </tr>\n",
       "    <tr>\n",
       "      <td>Rtail</td>\n",
       "      <td>0.001226</td>\n",
       "      <td>0.001455</td>\n",
       "      <td>0.001090</td>\n",
       "      <td>0.000873</td>\n",
       "    </tr>\n",
       "    <tr>\n",
       "      <td>Servs</td>\n",
       "      <td>0.001561</td>\n",
       "      <td>0.001090</td>\n",
       "      <td>0.001549</td>\n",
       "      <td>0.000847</td>\n",
       "    </tr>\n",
       "    <tr>\n",
       "      <td>Telcm</td>\n",
       "      <td>0.001161</td>\n",
       "      <td>0.000873</td>\n",
       "      <td>0.000847</td>\n",
       "      <td>0.001367</td>\n",
       "    </tr>\n",
       "  </tbody>\n",
       "</table>\n",
       "</div>"
      ],
      "text/plain": [
       "          Chems     Rtail     Servs     Telcm\n",
       "Chems  0.002696  0.001226  0.001561  0.001161\n",
       "Rtail  0.001226  0.001455  0.001090  0.000873\n",
       "Servs  0.001561  0.001090  0.001549  0.000847\n",
       "Telcm  0.001161  0.000873  0.000847  0.001367"
      ]
     },
     "execution_count": 18,
     "metadata": {},
     "output_type": "execute_result"
    }
   ],
   "source": [
    "cov_period_2=data_return_period_2.cov()\n",
    "\n",
    "cov_period_2"
   ]
  },
  {
   "cell_type": "code",
   "execution_count": 19,
   "metadata": {},
   "outputs": [
    {
     "name": "stdout",
     "output_type": "stream",
     "text": [
      "The portfolio's return in the second period is 0.011150982110405784\n"
     ]
    }
   ],
   "source": [
    "Return_gmv_period_2=portfolio_return(weight_gmv,Expected_Return_Period_2.values)\n",
    "\n",
    "print(f'The portfolio\\'s return in the second period is {Return_gmv_period_2}')"
   ]
  },
  {
   "cell_type": "code",
   "execution_count": 20,
   "metadata": {},
   "outputs": [
    {
     "name": "stdout",
     "output_type": "stream",
     "text": [
      "The portfolio's volatility in the second period is 0.03496034458954588\n"
     ]
    }
   ],
   "source": [
    "Risk_gmv_period_2=portfolio_risk(weight_gmv,cov_period_2)\n",
    "\n",
    "print(f'The portfolio\\'s volatility in the second period is {Risk_gmv_period_2}')"
   ]
  },
  {
   "cell_type": "code",
   "execution_count": 21,
   "metadata": {},
   "outputs": [
    {
     "name": "stdout",
     "output_type": "stream",
     "text": [
      "The portfolio's sharpe ratio in the second period is 0.2903570382267116\n"
     ]
    }
   ],
   "source": [
    "sharpe_ratio_gmv = (Return_gmv_period_2 - risk_free_rate)/Risk_gmv_period_2\n",
    "\n",
    "print(f'The portfolio\\'s sharpe ratio in the second period is {sharpe_ratio_gmv}')"
   ]
  },
  {
   "cell_type": "markdown",
   "metadata": {},
   "source": [
    "### 8. In the same period of Jan 2011 to Dec 2018, invest using a naïve 1/N rule. Compute the Portfolio Return, Variance and Sharpe Ratio. "
   ]
  },
  {
   "cell_type": "code",
   "execution_count": 22,
   "metadata": {},
   "outputs": [
    {
     "data": {
      "text/plain": [
       "4"
      ]
     },
     "execution_count": 22,
     "metadata": {},
     "output_type": "execute_result"
    }
   ],
   "source": [
    "number_of_assets=len(Assets)\n",
    "\n",
    "number_of_assets"
   ]
  },
  {
   "cell_type": "code",
   "execution_count": 23,
   "metadata": {},
   "outputs": [],
   "source": [
    "weight_ew=np.repeat(1/number_of_assets,number_of_assets)"
   ]
  },
  {
   "cell_type": "code",
   "execution_count": 24,
   "metadata": {},
   "outputs": [
    {
     "data": {
      "text/plain": [
       "array([0.25, 0.25, 0.25, 0.25])"
      ]
     },
     "execution_count": 24,
     "metadata": {},
     "output_type": "execute_result"
    }
   ],
   "source": [
    "weight_ew"
   ]
  },
  {
   "cell_type": "code",
   "execution_count": 25,
   "metadata": {},
   "outputs": [
    {
     "name": "stdout",
     "output_type": "stream",
     "text": [
      "The equally weighted portfolio's return in the second period is 0.010626302083333332\n"
     ]
    }
   ],
   "source": [
    "Return_ew_period_2=portfolio_return(weight_ew, Expected_Return_Period_2.values)\n",
    "\n",
    "print(f'The equally weighted portfolio\\'s return in the second period is {Return_ew_period_2}')"
   ]
  },
  {
   "cell_type": "code",
   "execution_count": 26,
   "metadata": {},
   "outputs": [
    {
     "name": "stdout",
     "output_type": "stream",
     "text": [
      "The equally weighted portfolio's volatility in the second period is 0.03586751524154583\n"
     ]
    }
   ],
   "source": [
    "Risk_ew_period_2=portfolio_risk(weight_ew,cov_period_2)\n",
    "\n",
    "print(f'The equally weighted portfolio\\'s volatility in the second period is {Risk_ew_period_2}')"
   ]
  },
  {
   "cell_type": "code",
   "execution_count": 27,
   "metadata": {},
   "outputs": [
    {
     "name": "stdout",
     "output_type": "stream",
     "text": [
      "The equally weighted portfolio's sharpe ratio in the second period is 0.2683849722654626\n"
     ]
    }
   ],
   "source": [
    "sharpe_ratio_ew = (Return_ew_period_2 - risk_free_rate)/Risk_ew_period_2\n",
    "\n",
    "print(f'The equally weighted portfolio\\'s sharpe ratio in the second period is {sharpe_ratio_ew}')"
   ]
  },
  {
   "cell_type": "markdown",
   "metadata": {},
   "source": [
    "### 9. Based on the Sharpe Ratios of Minimum Variance Portfolio and 1/N rule, which strategy you pick? "
   ]
  },
  {
   "cell_type": "code",
   "execution_count": 28,
   "metadata": {},
   "outputs": [
    {
     "name": "stdout",
     "output_type": "stream",
     "text": [
      "\n",
      "    The global minimum variance portfolio is prefered. \n",
      "    It's sharpe ratio is 0.2903570382267116.\n",
      "    The sharpe ratio is 0.02197206596124901 higher.\n"
     ]
    }
   ],
   "source": [
    "if sharpe_ratio_ew < sharpe_ratio_gmv:\n",
    "    print(f'''\n",
    "    The global minimum variance portfolio is prefered. \n",
    "    It\\'s sharpe ratio is {sharpe_ratio_gmv}.\n",
    "    The sharpe ratio is {sharpe_ratio_gmv-sharpe_ratio_ew} higher.''')\n",
    "else:\n",
    "    print(f'''\n",
    "    The equally weighted portfolio is prefered. \n",
    "    It\\'s sharpe ratio is {sharpe_ratio_ew}.\n",
    "    The sharpe ratio is {sharpe_ratio_ew-sharpe_ratio_gmv} higher.''')"
   ]
  }
 ],
 "metadata": {
  "kernelspec": {
   "display_name": "Python 3",
   "language": "python",
   "name": "python3"
  },
  "language_info": {
   "codemirror_mode": {
    "name": "ipython",
    "version": 3
   },
   "file_extension": ".py",
   "mimetype": "text/x-python",
   "name": "python",
   "nbconvert_exporter": "python",
   "pygments_lexer": "ipython3",
   "version": "3.7.6"
  }
 },
 "nbformat": 4,
 "nbformat_minor": 2
}
